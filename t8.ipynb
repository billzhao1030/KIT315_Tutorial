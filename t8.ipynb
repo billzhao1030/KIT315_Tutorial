{
 "cells": [
  {
   "cell_type": "code",
   "execution_count": 1,
   "metadata": {
    "pycharm": {
     "name": "#%%\n"
    }
   },
   "outputs": [],
   "source": [
    "import numpy as np\n",
    "import pandas as pd\n",
    "import tensorflow as tf\n",
    "import datetime, os\n",
    "from sklearn import preprocessing"
   ]
  },
  {
   "cell_type": "code",
   "execution_count": 2,
   "metadata": {
    "pycharm": {
     "name": "#%%\n"
    }
   },
   "outputs": [],
   "source": [
    "LABELS = ['WALKING', 'WALKING_UPSTAIRS', 'WALKING_DOWNSTAIRS', 'SITTING', 'STANDING', 'LAYING']\n",
    "SIGNALS = [\"body_acc_x_\", \"body_acc_y_\", \"body_acc_z_\",\n",
    "           \"body_gyro_x_\", \"body_gyro_y_\", \"body_gyro_z_\",\n",
    "           \"total_acc_x_\", \"total_acc_y_\", \"total_acc_z_\"]\n",
    "\n",
    "train_paths = ['./UCI HAR Dataset/train/Inertial Signals/' + signal + 'train.txt' for signal in SIGNALS]\n",
    "test_paths = ['./UCI HAR Dataset/test/Inertial Signals/' + signal + 'test.txt' for signal in SIGNALS]"
   ]
  },
  {
   "cell_type": "code",
   "execution_count": 3,
   "metadata": {
    "pycharm": {
     "name": "#%%\n"
    }
   },
   "outputs": [],
   "source": [
    "def load_X(X_signal_paths):\n",
    "    X_signals = []\n",
    "\n",
    "    for signal_type_path in X_signal_paths:\n",
    "        file = open(signal_type_path, 'r')\n",
    "        # Read dataset from disk, dealing with text files' syntax\n",
    "        X_signals.append(\n",
    "            [np.array(serie, dtype=np.float32) for serie in [\n",
    "                row.replace('  ', ' ').strip().split(' ') for row in file\n",
    "            ]]\n",
    "        )\n",
    "        file.close()\n",
    "\n",
    "    return np.transpose(np.array(X_signals), (1, 2, 0))"
   ]
  },
  {
   "cell_type": "code",
   "execution_count": 4,
   "metadata": {
    "pycharm": {
     "name": "#%%\n"
    }
   },
   "outputs": [],
   "source": [
    "x_train = load_X(train_paths)\n",
    "x_test = load_X(test_paths)"
   ]
  },
  {
   "cell_type": "code",
   "execution_count": 5,
   "metadata": {
    "pycharm": {
     "name": "#%%\n"
    }
   },
   "outputs": [],
   "source": [
    "y_train = np.loadtxt('./UCI HAR Dataset/train/y_train.txt',  dtype=np.int32)\n",
    "y_test = np.loadtxt('./UCI HAR Dataset/test/y_test.txt', dtype=np.int32)\n",
    "\n",
    "y_train = np.asarray([[y] for y in y_train])\n",
    "y_test = np.asarray([[y] for y in y_test])"
   ]
  },
  {
   "cell_type": "code",
   "execution_count": 6,
   "metadata": {
    "pycharm": {
     "name": "#%%\n"
    }
   },
   "outputs": [
    {
     "name": "stdout",
     "output_type": "stream",
     "text": [
      "x_train shape is:  (7352, 128, 9)\n",
      "x_test shape is:  (2947, 128, 9)\n",
      "y_train shape is:  (7352, 1)\n",
      "y_test shape is:  (2947, 1)\n"
     ]
    }
   ],
   "source": [
    "print('x_train shape is: ', x_train.shape)\n",
    "print('x_test shape is: ', x_test.shape)\n",
    "\n",
    "print('y_train shape is: ', y_train.shape)\n",
    "print('y_test shape is: ', y_test.shape)\n"
   ]
  },
  {
   "cell_type": "code",
   "execution_count": 7,
   "metadata": {
    "pycharm": {
     "name": "#%%\n"
    }
   },
   "outputs": [
    {
     "name": "stdout",
     "output_type": "stream",
     "text": [
      "[1 2 3 4 5 6]\n"
     ]
    }
   ],
   "source": [
    "print(np.unique(y_train))"
   ]
  },
  {
   "cell_type": "code",
   "execution_count": 16,
   "metadata": {
    "pycharm": {
     "name": "#%%\n"
    }
   },
   "outputs": [
    {
     "name": "stdout",
     "output_type": "stream",
     "text": [
      "[1 2 3 4 5 6]\n",
      "Shape of y_train_onehot\n",
      "(7352, 6)\n",
      "Shape of y_test_onehot\n",
      "(2947, 6)\n"
     ]
    }
   ],
   "source": [
    "from sklearn.preprocessing import OneHotEncoder\n",
    "\n",
    "enc = OneHotEncoder(handle_unknown='ignore')\n",
    "enc.fit(y_train)\n",
    "\n",
    "categories = enc.categories_[0]\n",
    "print(categories)\n",
    "\n",
    "y_train_onehot = enc.transform(y_train).toarray()\n",
    "y_test_onehot = enc.transform(y_test).toarray()\n",
    "\n",
    "print(\"Shape of y_train_onehot\")\n",
    "print(y_train_onehot.shape)\n",
    "print(\"Shape of y_test_onehot\")\n",
    "print(y_test_onehot.shape)"
   ]
  },
  {
   "cell_type": "code",
   "execution_count": 18,
   "metadata": {
    "pycharm": {
     "name": "#%%\n"
    }
   },
   "outputs": [
    {
     "name": "stdout",
     "output_type": "stream",
     "text": [
      "Model: \"sequential_3\"\n",
      "_________________________________________________________________\n",
      " Layer (type)                Output Shape              Param #   \n",
      "=================================================================\n",
      " lstm_3 (LSTM)               (None, 175)               129500    \n",
      "                                                                 \n",
      " dense_3 (Dense)             (None, 6)                 1056      \n",
      "                                                                 \n",
      "=================================================================\n",
      "Total params: 130,556\n",
      "Trainable params: 130,556\n",
      "Non-trainable params: 0\n",
      "_________________________________________________________________\n"
     ]
    }
   ],
   "source": [
    "from keras.layers import Embedding, Dense, LSTM\n",
    "from keras.losses import BinaryFocalCrossentropy\n",
    "from keras.models import Sequential\n",
    "from keras import  optimizers\n",
    "\n",
    "model = Sequential()\n",
    "model.add(LSTM(175, input_shape=(x_train.shape[1], x_train.shape[2])))\n",
    "model.add(Dense(6, activation='softmax'))\n",
    "\n",
    "additional_metrics = ['accuracy']\n",
    "opt = optimizers.Adam(learning_rate=0.001)\n",
    "model.compile(optimizer=opt, loss='categorical_crossentropy', metrics=additional_metrics)\n",
    "\n",
    "model.summary()"
   ]
  },
  {
   "cell_type": "code",
   "execution_count": 19,
   "outputs": [
    {
     "name": "stdout",
     "output_type": "stream",
     "text": [
      "<class 'numpy.ndarray'>\n",
      "<class 'numpy.ndarray'>\n"
     ]
    }
   ],
   "source": [
    "print((type(x_test)))\n",
    "print((type(y_test_onehot)))"
   ],
   "metadata": {
    "collapsed": false,
    "pycharm": {
     "name": "#%%\n"
    }
   }
  },
  {
   "cell_type": "code",
   "execution_count": 20,
   "outputs": [
    {
     "name": "stdout",
     "output_type": "stream",
     "text": [
      "Epoch 1/20\n",
      "49/49 [==============================] - 14s 249ms/step - loss: 1.2475 - accuracy: 0.4780 - val_loss: 1.2095 - val_accuracy: 0.5249\n",
      "Epoch 2/20\n",
      "49/49 [==============================] - 13s 271ms/step - loss: 0.8872 - accuracy: 0.6302 - val_loss: 1.0898 - val_accuracy: 0.5684\n",
      "Epoch 3/20\n",
      "49/49 [==============================] - 15s 314ms/step - loss: 0.7667 - accuracy: 0.6846 - val_loss: 0.9924 - val_accuracy: 0.6591\n",
      "Epoch 4/20\n",
      "49/49 [==============================] - 16s 334ms/step - loss: 0.6159 - accuracy: 0.7651 - val_loss: 0.8197 - val_accuracy: 0.7289\n",
      "Epoch 5/20\n",
      "49/49 [==============================] - 16s 334ms/step - loss: 0.4989 - accuracy: 0.8041 - val_loss: 0.8812 - val_accuracy: 0.7035\n",
      "Epoch 6/20\n",
      "49/49 [==============================] - 17s 340ms/step - loss: 0.4231 - accuracy: 0.8505 - val_loss: 0.7631 - val_accuracy: 0.8087\n",
      "Epoch 7/20\n",
      "49/49 [==============================] - 15s 313ms/step - loss: 0.3405 - accuracy: 0.8851 - val_loss: 0.6183 - val_accuracy: 0.8132\n",
      "Epoch 8/20\n",
      "49/49 [==============================] - 14s 289ms/step - loss: 0.2931 - accuracy: 0.9003 - val_loss: 0.5618 - val_accuracy: 0.8160\n",
      "Epoch 9/20\n",
      "49/49 [==============================] - 15s 309ms/step - loss: 0.2400 - accuracy: 0.9193 - val_loss: 0.5205 - val_accuracy: 0.8468\n",
      "Epoch 10/20\n",
      "49/49 [==============================] - 14s 284ms/step - loss: 0.1857 - accuracy: 0.9390 - val_loss: 0.4313 - val_accuracy: 0.8694\n",
      "Epoch 11/20\n",
      "49/49 [==============================] - 14s 294ms/step - loss: 0.1779 - accuracy: 0.9394 - val_loss: 0.4717 - val_accuracy: 0.8586\n",
      "Epoch 12/20\n",
      "49/49 [==============================] - 15s 297ms/step - loss: 0.3659 - accuracy: 0.9025 - val_loss: 0.7278 - val_accuracy: 0.7625\n",
      "Epoch 13/20\n",
      "49/49 [==============================] - 14s 294ms/step - loss: 0.3492 - accuracy: 0.8537 - val_loss: 0.5887 - val_accuracy: 0.8250\n",
      "Epoch 14/20\n",
      "49/49 [==============================] - 13s 265ms/step - loss: 0.2550 - accuracy: 0.8997 - val_loss: 0.5465 - val_accuracy: 0.8359\n",
      "Epoch 15/20\n",
      "49/49 [==============================] - 13s 261ms/step - loss: 0.1891 - accuracy: 0.9262 - val_loss: 0.4858 - val_accuracy: 0.8332\n",
      "Epoch 16/20\n",
      "49/49 [==============================] - 13s 276ms/step - loss: 0.3207 - accuracy: 0.8864 - val_loss: 0.4488 - val_accuracy: 0.8250\n",
      "Epoch 17/20\n",
      "49/49 [==============================] - 15s 300ms/step - loss: 0.1809 - accuracy: 0.9406 - val_loss: 0.4155 - val_accuracy: 0.8549\n",
      "Epoch 18/20\n",
      "49/49 [==============================] - 15s 307ms/step - loss: 0.1710 - accuracy: 0.9406 - val_loss: 0.5112 - val_accuracy: 0.8404\n",
      "Epoch 19/20\n",
      "49/49 [==============================] - 14s 292ms/step - loss: 0.1919 - accuracy: 0.9334 - val_loss: 0.5323 - val_accuracy: 0.8631\n",
      "Epoch 20/20\n",
      "49/49 [==============================] - 14s 296ms/step - loss: 0.1228 - accuracy: 0.9533 - val_loss: 0.5163 - val_accuracy: 0.8803\n",
      "93/93 [==============================] - 4s 37ms/step - loss: 0.3391 - accuracy: 0.9013\n",
      "Test result - Loss: 0.33914080262184143 - Accuracy: 90.12554883956909%\n"
     ]
    }
   ],
   "source": [
    "history = model.fit(x_train, y_train_onehot, batch_size=128, epochs=20,\n",
    "                    validation_split=0.15, verbose=1)\n",
    "\n",
    "test_result = model.evaluate(x_test, y_test_onehot)\n",
    "\n",
    "print(f'Test result - Loss: {test_result[0]} - Accuracy: {100*test_result[1]}%')"
   ],
   "metadata": {
    "collapsed": false,
    "pycharm": {
     "name": "#%%\n"
    }
   }
  },
  {
   "cell_type": "code",
   "execution_count": 35,
   "outputs": [],
   "source": [
    "import matplotlib.pyplot as plt\n",
    "\n",
    "def plot(train_hist):\n",
    "    fig, axs = plt.subplots(1, 2, figsize=(20, 6))\n",
    "\n",
    "    axs[0].plot(train_hist.history['accuracy'])\n",
    "    axs[0].plot(train_hist.history['val_accuracy'])\n",
    "    axs[0].set_title('model accuracy')\n",
    "    axs[0].set_ylabel('accuracy')\n",
    "    axs[0].set_xlabel('epoch')\n",
    "    axs[0].legend(['train', 'validation'])\n",
    "\n",
    "    axs[1].plot(train_hist.history['loss'])\n",
    "    axs[1].plot(train_hist.history['val_loss'])\n",
    "    axs[1].set_title('model loss')\n",
    "    axs[1].set_ylabel('loss')\n",
    "    axs[1].set_xlabel('epoch')\n",
    "    axs[1].legend(['train', 'validation'])\n",
    "\n",
    "    plt.tight_layout()\n",
    "    plt.show()"
   ],
   "metadata": {
    "collapsed": false,
    "pycharm": {
     "name": "#%%\n"
    }
   }
  },
  {
   "cell_type": "code",
   "execution_count": 36,
   "outputs": [
    {
     "data": {
      "text/plain": "<Figure size 1440x432 with 2 Axes>",
      "image/png": "[encoded data removed]"
     },
     "metadata": {
      "needs_background": "light"
     },
     "output_type": "display_data"
    }
   ],
   "source": [
    "plot(history)"
   ],
   "metadata": {
    "collapsed": false,
    "pycharm": {
     "name": "#%%\n"
    }
   }
  },
  {
   "cell_type": "code",
   "execution_count": 38,
   "outputs": [],
   "source": [
    "from tensorflow.python.keras.layers.recurrent import PeepholeLSTMCell\n",
    "from tensorflow.python.keras.layers import RNN\n",
    "import keras\n",
    "\n",
    "model = Sequential()\n",
    "peephole_cell = PeepholeLSTMCell(175)\n",
    "model.add(keras.Input(shape=(128,9)))\n",
    "PeepholeLayer = RNN(peephole_cell, input_shape=(128, 9))\n",
    "\n",
    "model.add(PeepholeLayer)\n",
    "model.add(Dense(6, activation='softmax'))\n",
    "\n",
    "additional_metrics = ['accuracy']\n",
    "opt = optimizers.Adam(learning_rate=0.001)\n",
    "model.compile(optimizer=opt, loss='categorical_crossentropy', metrics=additional_metrics)\n",
    "\n",
    "model.build()"
   ],
   "metadata": {
    "collapsed": false,
    "pycharm": {
     "name": "#%%\n"
    }
   }
  },
  {
   "cell_type": "code",
   "execution_count": 39,
   "outputs": [
    {
     "name": "stdout",
     "output_type": "stream",
     "text": [
      "Model: \"sequential_9\"\n",
      "_________________________________________________________________\n",
      " Layer (type)                Output Shape              Param #   \n",
      "=================================================================\n",
      " module_wrapper_4 (ModuleWra  (None, 175)              130025    \n",
      " pper)                                                           \n",
      "                                                                 \n",
      " dense_8 (Dense)             (None, 6)                 1056      \n",
      "                                                                 \n",
      "=================================================================\n",
      "Total params: 131,081\n",
      "Trainable params: 131,081\n",
      "Non-trainable params: 0\n",
      "_________________________________________________________________\n"
     ]
    }
   ],
   "source": [
    "model.summary()"
   ],
   "metadata": {
    "collapsed": false,
    "pycharm": {
     "name": "#%%\n"
    }
   }
  },
  {
   "cell_type": "code",
   "execution_count": null,
   "outputs": [],
   "source": [],
   "metadata": {
    "collapsed": false,
    "pycharm": {
     "name": "#%%\n"
    }
   }
  }
 ],
 "metadata": {
  "kernelspec": {
   "display_name": "Python 3.10.5 64-bit",
   "language": "python",
   "name": "python3"
  },
  "language_info": {
   "codemirror_mode": {
    "name": "ipython",
    "version": 3
   },
   "file_extension": ".py",
   "mimetype": "text/x-python",
   "name": "python",
   "nbconvert_exporter": "python",
   "pygments_lexer": "ipython3",
   "version": "3.10.5"
  },
  "orig_nbformat": 4,
  "vscode": {
   "interpreter": {
    "hash": "f7c184107aed90e61f21a107d83f6d0078a177071f5a0db3f42787e18d37abad"
   }
  }
 },
 "nbformat": 4,
 "nbformat_minor": 2
}