{
 "cells": [
  {
   "cell_type": "code",
   "execution_count": null,
   "metadata": {
    "collapsed": true,
    "pycharm": {
     "name": "#%%\n"
    }
   },
   "outputs": [],
   "source": [
    "import numpy as np\n",
    "import pandas as pd\n",
    "import matplotlib.pyplot as plt"
   ]
  },
  {
   "cell_type": "code",
   "execution_count": null,
   "outputs": [],
   "source": [
    "from keras.models import Sequential\n",
    "from keras import optimizers, layers\n",
    "\n",
    "model_name = '' # TODO: model name here\n",
    "model = Sequential(name=model_name)\n",
    "\n",
    "additional_metrics = ['accuracy']\n",
    "opt = optimizers.Adam(learning_rate=0.001)\n",
    "model.compile(optimizer=opt, loss='categorical_crossentropy', metrics=additional_metrics)\n",
    "\n",
    "model.summary()"
   ],
   "metadata": {
    "collapsed": false,
    "pycharm": {
     "name": "#%%\n"
    }
   }
  },
  {
   "cell_type": "code",
   "execution_count": null,
   "outputs": [],
   "source": [
    "def show_train_history(train_hist): # pass all_test if for multipart show\n",
    "    fig, axs = plt.subplots(1, 2, figsize=(20, 6))\n",
    "\n",
    "    axs[0].plot(train_hist.history['accuracy'])\n",
    "    axs[0].plot(train_hist.history['val_accuracy'])\n",
    "    axs[0].set_title('model accuracy')\n",
    "    axs[0].set_ylabel('accuracy')\n",
    "    axs[0].set_xlabel('epoch')\n",
    "    axs[0].legend(['train', 'validation'])\n",
    "\n",
    "    # change to this for multipart training\n",
    "    # for conf in all_test:\n",
    "    #     axs[0].plot(all_test[conf]['val_accuracy'], label=conf)\n",
    "    #     axs[0].legend()\n",
    "\n",
    "    axs[1].plot(train_hist.history['loss'])\n",
    "    axs[1].plot(train_hist.history['val_loss'])\n",
    "    axs[1].set_title('model loss')\n",
    "    axs[1].set_ylabel('loss')\n",
    "    axs[1].set_xlabel('epoch')\n",
    "    axs[1].legend(['train', 'validation'])\n",
    "\n",
    "    plt.tight_layout()\n",
    "    plt.show()"
   ],
   "metadata": {
    "collapsed": false,
    "pycharm": {
     "name": "#%%\n"
    }
   }
  },
  {
   "cell_type": "code",
   "execution_count": null,
   "outputs": [],
   "source": [
    "from sklearn.preprocessing import OneHotEncoder\n",
    "\n",
    "# util for OneHotEncoder\n",
    "y_train, y_test = []\n",
    "\n",
    "enc = OneHotEncoder(handle_unknown='ignore')\n",
    "enc.fit(y_train)\n",
    "\n",
    "categories = enc.categories_[0]\n",
    "print(categories)\n",
    "\n",
    "y_train_onehot = enc.transform(y_train).toarray()\n",
    "y_test_onehot = enc.transform(y_test).toarray()\n",
    "\n",
    "print(\"Shape of y_train_onehot\")\n",
    "print(y_train_onehot.shape)\n",
    "print(\"Shape of y_test_onehot\")\n",
    "print(y_test_onehot.shape)"
   ],
   "metadata": {
    "collapsed": false,
    "pycharm": {
     "name": "#%%\n"
    }
   }
  },
  {
   "cell_type": "code",
   "execution_count": null,
   "outputs": [],
   "source": [
    "import keras\n",
    "\n",
    "all_test = {}\n",
    "x_test, x_train = []\n",
    "for bs in [0, 0.2]:\n",
    "    keras.backend.clear_session() # for each train, clear session\n",
    "\n",
    "    model = Sequential()\n",
    "    model.add(keras.Input(shape=(32*32*3, )))\n",
    "    n_hidden_layers = 8\n",
    "\n",
    "    for i in range(n_hidden_layers):\n",
    "        model.add(layers.Dense(288, activation='relu'))\n",
    "        #tf.keras.layers.BatchNormalization()\n",
    "    model.add(layers.Dropout(bs))\n",
    "    model.add(layers.Dense(10, activation='softmax'))\n",
    "\n",
    "    opt = keras.optimizers.Adam(0.0001)\n",
    "    model.compile(loss='categorical_crossentropy', optimizer=opt, metrics=['accuracy'])\n",
    "\n",
    "    model.summary()\n",
    "\n",
    "    train_hist = model.fit(x_train, y_train_onehot, batch_size=128,\n",
    "                           epochs=25,verbose=1, validation_data=(x_test, y_test_onehot), shuffle=True)\n",
    "\n",
    "    all_test['bs_%f' % bs] = train_hist.history  # add current test params to all_test"
   ],
   "metadata": {
    "collapsed": false,
    "pycharm": {
     "name": "#%%\n"
    }
   }
  },
  {
   "cell_type": "code",
   "execution_count": null,
   "outputs": [],
   "source": [
    "test_result = model.evaluate(x_test, y_test_onehot)\n",
    "print(f'Test result - Loss: {test_result[0]} - Accuracy: {100*test_result[1]}%')"
   ],
   "metadata": {
    "collapsed": false,
    "pycharm": {
     "name": "#%%\n"
    }
   }
  }
 ],
 "metadata": {
  "kernelspec": {
   "display_name": "Python 3",
   "language": "python",
   "name": "python3"
  },
  "language_info": {
   "codemirror_mode": {
    "name": "ipython",
    "version": 2
   },
   "file_extension": ".py",
   "mimetype": "text/x-python",
   "name": "python",
   "nbconvert_exporter": "python",
   "pygments_lexer": "ipython2",
   "version": "2.7.6"
  }
 },
 "nbformat": 4,
 "nbformat_minor": 0
}