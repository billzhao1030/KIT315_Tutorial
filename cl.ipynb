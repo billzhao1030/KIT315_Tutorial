{
 "cells": [
  {
   "cell_type": "markdown",
   "metadata": {
    "pycharm": {
     "name": "#%% md\n"
    }
   },
   "source": [
    "# KIT315 Tutorial-2 (week 3)\n",
    "# Wine Quality Prediction and Handwritten Digit Classification\n",
    "\n",
    "(Dr Yuchen Wei)"
   ]
  },
  {
   "cell_type": "markdown",
   "metadata": {
    "pycharm": {
     "name": "#%% md\n"
    }
   },
   "source": [
    "## A. Environment Setup"
   ]
  },
  {
   "cell_type": "markdown",
   "metadata": {
    "pycharm": {
     "name": "#%% md\n"
    }
   },
   "source": [
    "For practicing Machine Learning, you can use the lab computers or install the following packages/libraries on your personal computer.\n",
    "\n",
    "- Python 3.8\n",
    "\n",
    "- Numpy \n",
    "\n",
    "- Scikit-Learn\n",
    "\n",
    "- Matplotlib\n"
   ]
  },
  {
   "cell_type": "markdown",
   "metadata": {
    "pycharm": {
     "name": "#%% md\n"
    }
   },
   "source": [
    "## B. Classification"
   ]
  },
  {
   "cell_type": "markdown",
   "metadata": {
    "pycharm": {
     "name": "#%% md\n"
    }
   },
   "source": [
    "In this tutorial, we start with wine rating prediction. For this application, we will predict the rating of a wine sample from its chemical values."
   ]
  },
  {
   "cell_type": "markdown",
   "metadata": {
    "pycharm": {
     "name": "#%% md\n"
    }
   },
   "source": [
    "#### Step 1. Load data"
   ]
  },
  {
   "cell_type": "markdown",
   "metadata": {
    "pycharm": {
     "name": "#%% md\n"
    }
   },
   "source": [
    "In this step, we will load data from a csv file. Please open (using a text editor) and take a look at the winequality-red.csv file in the wine_data folder. What we can tell from this data? \n",
    "\n",
    "*NOTE: there are no metada, only values.*"
   ]
  },
  {
   "cell_type": "code",
   "execution_count": 1,
   "metadata": {
    "pycharm": {
     "name": "#%%\n"
    }
   },
   "outputs": [
    {
     "name": "stdout",
     "output_type": "stream",
     "text": [
      "(1599, 12)\n"
     ]
    }
   ],
   "source": [
    "import warnings\n",
    "warnings.filterwarnings('ignore')\n",
    "import numpy as np\n",
    "data = np.loadtxt(\"datasets/winequality-red.csv\",delimiter=\",\")\n",
    "print(data.shape)"
   ]
  },
  {
   "cell_type": "markdown",
   "metadata": {
    "pycharm": {
     "name": "#%% md\n"
    }
   },
   "source": [
    "The data does not give any information about the name of the attributes, there are only values separated by delimiters. We can load it directly as a matrix. As you can see after running the above code, there are 1599 samples and each sample has 12 attributes. From an external source, here is the information of the attributes:\n",
    "\n",
    "1 - fixed acidity: most acids involved with wine or fixed or nonvolatile (do not evaporate readily)\n",
    "\n",
    "2 - volatile acidity: the amount of acetic acid in wine, which at too high of levels can lead to an unpleasant, vinegar taste\n",
    "\n",
    "3 - citric acid: found in small quantities, citric acid can add ‘freshness’ and flavor to wines\n",
    "\n",
    "4 - residual sugar: the amount of sugar remaining after fermentation stops, it’s rare to find wines with less than 1 gram/liter and wines with greater than 45 grams/liter are considered sweet\n",
    "\n",
    "5 - chlorides: the amount of salt in the wine\n",
    "\n",
    "6 - free sulfur dioxide: the free form of SO2 exists in equilibrium between molecular SO2 (as a dissolved gas) and bisulfite ion; it prevents microbial growth and the oxidation of wine\n",
    "\n",
    "7 - total sulfur dioxide: amount of free and bound forms of S02; in low concentrations, SO2 is mostly undetectable in wine, but at free SO2 concentrations over 50 ppm, SO2 becomes evident in the nose and taste of wine\n",
    "\n",
    "8 - density: the density of water is close to that of water depending on the percent alcohol and sugar content\n",
    "\n",
    "9 - pH: describes how acidic or basic a wine is on a scale from 0 (very acidic) to 14 (very basic); most wines are between 3-4 on the pH scale\n",
    "\n",
    "10 - sulphates: a wine additive which can contribute to sulfur dioxide gas (S02) levels and acts as an antimicrobial and antioxidant\n",
    "\n",
    "11 - alcohol: the percent alcohol content of the wine\n",
    "\n",
    "Output variable (based on sensory data): 12 - quality (score between 0 and 10)"
   ]
  },
  {
   "cell_type": "markdown",
   "metadata": {
    "pycharm": {
     "name": "#%% md\n"
    }
   },
   "source": [
    "#### Step 2. Split attributes"
   ]
  },
  {
   "cell_type": "markdown",
   "metadata": {
    "pycharm": {
     "name": "#%% md\n"
    }
   },
   "source": [
    "The last attribute (number 12, column indexed 11 in the matrix) is the class attribute. To train and evaluate a machine learning model, we will separate the input attributes and the class attribute. "
   ]
  },
  {
   "cell_type": "code",
   "execution_count": 2,
   "metadata": {
    "pycharm": {
     "name": "#%%\n"
    }
   },
   "outputs": [],
   "source": [
    "x = data[:,0:11] \n",
    "y = data[:,11] "
   ]
  },
  {
   "cell_type": "markdown",
   "metadata": {
    "pycharm": {
     "name": "#%% md\n"
    }
   },
   "source": [
    "Let us set the names of the features"
   ]
  },
  {
   "cell_type": "code",
   "execution_count": 3,
   "metadata": {
    "pycharm": {
     "name": "#%%\n"
    }
   },
   "outputs": [],
   "source": [
    "fnames = [\"fixed acidity\",\n",
    "          \"volatile acidity\",\n",
    "          \"citric acid\",\n",
    "          \"residual sugar\",\n",
    "          \"chlorides\",\n",
    "          \"free sulfur dioxide\",\n",
    "          \"total sulfur dioxide\",\n",
    "          \"density\",\n",
    "          \"pH\",\n",
    "          \"sulphates\",\n",
    "          \"alcohol\"]"
   ]
  },
  {
   "cell_type": "markdown",
   "metadata": {
    "pycharm": {
     "name": "#%% md\n"
    }
   },
   "source": [
    "Variable x is holding the input attributes for all samples, we call them features. You can access the attributes of a sample by using slicing, as learned from the previous tutorial. For example, the attributes of the sample at the index 3 are:"
   ]
  },
  {
   "cell_type": "code",
   "execution_count": 4,
   "metadata": {
    "pycharm": {
     "name": "#%%\n"
    }
   },
   "outputs": [
    {
     "name": "stdout",
     "output_type": "stream",
     "text": [
      "[11.2    0.28   0.56   1.9    0.075 17.    60.     0.998  3.16   0.58\n",
      "  9.8  ]\n"
     ]
    }
   ],
   "source": [
    "print(x[3,:])"
   ]
  },
  {
   "cell_type": "markdown",
   "metadata": {
    "pycharm": {
     "name": "#%% md\n"
    }
   },
   "source": [
    "You can also get the ground truth (label) of that sample."
   ]
  },
  {
   "cell_type": "code",
   "execution_count": 5,
   "metadata": {
    "pycharm": {
     "name": "#%%\n"
    }
   },
   "outputs": [
    {
     "name": "stdout",
     "output_type": "stream",
     "text": [
      "6.0\n"
     ]
    }
   ],
   "source": [
    "print(y[3])"
   ]
  },
  {
   "cell_type": "markdown",
   "metadata": {
    "pycharm": {
     "name": "#%% md\n"
    }
   },
   "source": [
    "Note that, x[3,:] is a vector of featuress and y[3] is the quality of wine for that data sample."
   ]
  },
  {
   "cell_type": "markdown",
   "metadata": {
    "pycharm": {
     "name": "#%% md\n"
    }
   },
   "source": [
    "#### Step 3. Normalise data"
   ]
  },
  {
   "cell_type": "markdown",
   "metadata": {
    "pycharm": {
     "name": "#%% md\n"
    }
   },
   "source": [
    "Now, we will normalise the data. Note that this step is not compulsory but in practice, it would help the training. Although it is not always the case we should still try."
   ]
  },
  {
   "cell_type": "markdown",
   "metadata": {
    "pycharm": {
     "name": "#%% md\n"
    }
   },
   "source": [
    "Before normalising the data, let see the range of the features:"
   ]
  },
  {
   "cell_type": "code",
   "execution_count": 6,
   "metadata": {
    "pycharm": {
     "name": "#%%\n"
    }
   },
   "outputs": [
    {
     "name": "stdout",
     "output_type": "stream",
     "text": [
      "The value range of the features\n",
      "fixed acidity: min=4.60000  max=15.90000\n",
      "volatile acidity: min=0.12000  max=1.58000\n",
      "citric acid: min=0.00000  max=1.00000\n",
      "residual sugar: min=0.90000  max=15.50000\n",
      "chlorides: min=0.01200  max=0.61100\n",
      "free sulfur dioxide: min=1.00000  max=72.00000\n",
      "total sulfur dioxide: min=6.00000  max=289.00000\n",
      "density: min=0.99007  max=1.00369\n",
      "pH: min=2.74000  max=4.01000\n",
      "sulphates: min=0.33000  max=2.00000\n",
      "alcohol: min=8.40000  max=14.90000\n"
     ]
    }
   ],
   "source": [
    "min_vals = np.min(x,axis=0)\n",
    "max_vals = np.max(x,axis=0)\n",
    "print(\"The value range of the features\")\n",
    "for i in range(x.shape[1]): # x.shape[1] is the number of the features\n",
    "    name = fnames[i]\n",
    "    mn = min_vals[i]\n",
    "    mx = max_vals[i]\n",
    "    print(\"%s: min=%.5f  max=%.5f\"%(name,mn,mx))"
   ]
  },
  {
   "cell_type": "markdown",
   "metadata": {
    "pycharm": {
     "name": "#%% md\n"
    }
   },
   "source": [
    "As you can see, they have different ranges. Now we normalise the data."
   ]
  },
  {
   "cell_type": "code",
   "execution_count": 7,
   "metadata": {
    "pycharm": {
     "name": "#%%\n"
    }
   },
   "outputs": [],
   "source": [
    "from sklearn.preprocessing import MinMaxScaler\n",
    "scaler = MinMaxScaler(feature_range=(-1,1))\n",
    "x_norm = scaler.fit_transform(x)"
   ]
  },
  {
   "cell_type": "markdown",
   "metadata": {
    "pycharm": {
     "name": "#%% md\n"
    }
   },
   "source": [
    "and check the value range"
   ]
  },
  {
   "cell_type": "code",
   "execution_count": 8,
   "metadata": {
    "pycharm": {
     "name": "#%%\n"
    }
   },
   "outputs": [
    {
     "name": "stdout",
     "output_type": "stream",
     "text": [
      "The value range of the features\n",
      "fixed acidity: min=-1.00000  max=1.00000\n",
      "volatile acidity: min=-1.00000  max=1.00000\n",
      "citric acid: min=-1.00000  max=1.00000\n",
      "residual sugar: min=-1.00000  max=1.00000\n",
      "chlorides: min=-1.00000  max=1.00000\n",
      "free sulfur dioxide: min=-1.00000  max=1.00000\n",
      "total sulfur dioxide: min=-1.00000  max=1.00000\n",
      "density: min=-1.00000  max=1.00000\n",
      "pH: min=-1.00000  max=1.00000\n",
      "sulphates: min=-1.00000  max=1.00000\n",
      "alcohol: min=-1.00000  max=1.00000\n"
     ]
    }
   ],
   "source": [
    "min_vals = np.min(x_norm,axis=0)\n",
    "max_vals = np.max(x_norm,axis=0)\n",
    "print(\"The value range of the features\")\n",
    "for i in range(x_norm.shape[1]): # x.shape[1] is the number of the features\n",
    "    name = fnames[i]\n",
    "    mn = min_vals[i]\n",
    "    mx = max_vals[i]\n",
    "    print(\"%s: min=%.5f  max=%.5f\"%(name,mn,mx))"
   ]
  },
  {
   "cell_type": "markdown",
   "metadata": {
    "pycharm": {
     "name": "#%% md\n"
    }
   },
   "source": [
    "NOTE: *Normally we split the data first, normalise the training data and apply the normalisation parameters to the validation and/or test sets. In this tutorial, for demonstration purposes, we normalise the whole data.*"
   ]
  },
  {
   "cell_type": "markdown",
   "metadata": {
    "pycharm": {
     "name": "#%% md\n"
    }
   },
   "source": [
    "#### Step 4. Setting up the training and evaluation"
   ]
  },
  {
   "cell_type": "markdown",
   "metadata": {
    "pycharm": {
     "name": "#%% md\n"
    }
   },
   "source": [
    "Now the data is ready for training. Let us split the data into 10 folds for 10-fold cross-validation"
   ]
  },
  {
   "cell_type": "code",
   "execution_count": 9,
   "metadata": {
    "pycharm": {
     "name": "#%%\n"
    }
   },
   "outputs": [],
   "source": [
    "from sklearn.model_selection import KFold\n",
    "kf = KFold(n_splits=10)"
   ]
  },
  {
   "cell_type": "markdown",
   "metadata": {
    "pycharm": {
     "name": "#%% md\n"
    }
   },
   "source": [
    "Now, we will define a \"run\" function to train and evaluate a classifier."
   ]
  },
  {
   "cell_type": "code",
   "execution_count": 10,
   "metadata": {
    "pycharm": {
     "name": "#%%\n"
    }
   },
   "outputs": [],
   "source": [
    "from sklearn.metrics import accuracy_score,f1_score\n",
    "\n",
    "def run(classifier,inputs=x_norm):\n",
    "    print(\"Start training and evaluation ...\")\n",
    "    f1s = []\n",
    "    accs = []\n",
    "    for train_index, test_index in kf.split(inputs):\n",
    "        x_train, x_test = inputs[train_index], inputs[test_index]\n",
    "        y_train, y_test = y[train_index], y[test_index]\n",
    "   \n",
    "        classifier.fit(x_train, y_train)\n",
    "        y_pred = classifier.predict(x_test)\n",
    "        acc = accuracy_score(y_test,y_pred)\n",
    "        f1 = f1_score(y_test, y_pred, average='weighted')\n",
    "        accs.append(acc)\n",
    "        f1s.append(f1)\n",
    "    print(\"Evaluation completed!! Displaying results ...\")\n",
    "    print(\"==== Accuracy =====\")\n",
    "    print(\"Accuracy for ten folds\")\n",
    "    print(accs)\n",
    "    print(\"The averaged accuracy\")\n",
    "    print(np.mean(accs))\n",
    "    print(\"==== F1 Score =====\")\n",
    "    print(\"F1 for ten folds\")\n",
    "    print(f1s)\n",
    "    print(\"The averaged F1\")\n",
    "    print(np.mean(f1s))"
   ]
  },
  {
   "cell_type": "markdown",
   "metadata": {
    "pycharm": {
     "name": "#%% md\n"
    }
   },
   "source": [
    "#### Q: After executing the code above, why nothing runs?\n",
    "\n",
    "#### A: Because this is just a definition of the function, we need to call the function to make it run"
   ]
  },
  {
   "cell_type": "markdown",
   "metadata": {
    "pycharm": {
     "name": "#%% md\n"
    }
   },
   "source": [
    "#### Step 5. Train and evaluate a classifier"
   ]
  },
  {
   "cell_type": "markdown",
   "metadata": {
    "pycharm": {
     "name": "#%% md\n"
    }
   },
   "source": [
    "Create a classifier, let's try Decision Trees"
   ]
  },
  {
   "cell_type": "code",
   "execution_count": 11,
   "metadata": {
    "pycharm": {
     "name": "#%%\n"
    }
   },
   "outputs": [
    {
     "name": "stdout",
     "output_type": "stream",
     "text": [
      "Start training and evaluation ...\n",
      "Evaluation completed!! Displaying results ...\n",
      "==== Accuracy =====\n",
      "Accuracy for ten folds\n",
      "[0.49375, 0.4875, 0.41875, 0.46875, 0.55, 0.4625, 0.5, 0.38125, 0.45625, 0.42138364779874216]\n",
      "The averaged accuracy\n",
      "0.4640133647798742\n",
      "==== F1 Score =====\n",
      "F1 for ten folds\n",
      "[0.5120485385860318, 0.4740598335801424, 0.4228655786918753, 0.46921030542732334, 0.5693088639161028, 0.4692373080391074, 0.5137004913639072, 0.3856387174255079, 0.4600402414486922, 0.4215634653754257]\n",
      "The averaged F1\n",
      "0.4697673343854117\n"
     ]
    }
   ],
   "source": [
    "# More information about DT can be found here \n",
    "# https://scikit-learn.org/stable/modules/generated/sklearn.tree.DecisionTreeClassifier.html\n",
    "from sklearn.tree import DecisionTreeClassifier\n",
    "\n",
    "dec_tree = DecisionTreeClassifier()\n",
    "run(dec_tree)"
   ]
  },
  {
   "cell_type": "markdown",
   "metadata": {
    "pycharm": {
     "name": "#%% md\n"
    }
   },
   "source": [
    "Now we will try Random Forest, as known as an ensemble of Decision Trees."
   ]
  },
  {
   "cell_type": "code",
   "execution_count": 12,
   "metadata": {
    "pycharm": {
     "name": "#%%\n"
    }
   },
   "outputs": [
    {
     "name": "stdout",
     "output_type": "stream",
     "text": [
      "Start training and evaluation ...\n",
      "Evaluation completed!! Displaying results ...\n",
      "==== Accuracy =====\n",
      "Accuracy for ten folds\n",
      "[0.64375, 0.575, 0.50625, 0.54375, 0.6625, 0.55, 0.5375, 0.6125, 0.6, 0.5911949685534591]\n",
      "The averaged accuracy\n",
      "0.5822444968553458\n",
      "==== F1 Score =====\n",
      "F1 for ten folds\n",
      "[0.6213524130190797, 0.5316171562082777, 0.48666790265875626, 0.5240608465608465, 0.6334639498432602, 0.5303619807344973, 0.5313434137845908, 0.5844371327376641, 0.582706043956044, 0.5684199963061493]\n",
      "The averaged F1\n",
      "0.5594430835809165\n"
     ]
    }
   ],
   "source": [
    "# More information about RF can be found here \n",
    "# https://scikit-learn.org/stable/modules/generated/sklearn.ensemble.RandomForestClassifier.html\n",
    "from sklearn.ensemble import RandomForestClassifier\n",
    "rf = RandomForestClassifier()\n",
    "run(rf)"
   ]
  },
  {
   "cell_type": "markdown",
   "metadata": {
    "pycharm": {
     "name": "#%% md\n"
    }
   },
   "source": [
    "and Support Vector Machines"
   ]
  },
  {
   "cell_type": "code",
   "execution_count": 13,
   "metadata": {
    "pycharm": {
     "name": "#%%\n"
    }
   },
   "outputs": [
    {
     "name": "stdout",
     "output_type": "stream",
     "text": [
      "Start training and evaluation ...\n",
      "Evaluation completed!! Displaying results ...\n",
      "==== Accuracy =====\n",
      "Accuracy for ten folds\n",
      "[0.65, 0.5625, 0.54375, 0.53125, 0.6625, 0.49375, 0.6, 0.6, 0.65, 0.5534591194968553]\n",
      "The averaged accuracy\n",
      "0.5847209119496856\n",
      "==== F1 Score =====\n",
      "F1 for ten folds\n",
      "[0.6029602220166512, 0.4977495908346972, 0.5160677302567872, 0.5010923208608461, 0.6323877068557919, 0.41826194638694636, 0.5719657784743991, 0.570235788113695, 0.6292045454545454, 0.5121632846801948]\n",
      "The averaged F1\n",
      "0.5452088913934554\n"
     ]
    }
   ],
   "source": [
    "# More information about SVC can be found here \n",
    "#https://scikit-learn.org/stable/modules/generated/sklearn.svm.SVC.html\n",
    "from sklearn.svm import SVC\n",
    "svm = SVC()\n",
    "run(svm)"
   ]
  },
  {
   "cell_type": "markdown",
   "metadata": {
    "pycharm": {
     "name": "#%% md\n"
    }
   },
   "source": [
    "#### Q: Are the results of Random Forest and SVM fixed? Can we change them or even improve their performance?\n",
    "\n",
    "#### A: No, we used default hyper-parameters for RF and SVM, we can try other hyper-parmeters. This is what we do in the following section: Model selection."
   ]
  },
  {
   "cell_type": "markdown",
   "metadata": {
    "pycharm": {
     "name": "#%% md\n"
    }
   },
   "source": [
    "## C. Model selection"
   ]
  },
  {
   "cell_type": "markdown",
   "metadata": {
    "pycharm": {
     "name": "#%% md\n"
    }
   },
   "source": [
    "In this section, we will learn how to apply grid search to find a good combination of hyper-parameters. In the code below, we will define a grid of hyper-parameters we need to search. Please refer to the documentation of each model to see what hyper-parameters are available.\n",
    "\n",
    "Doing grid search is easy, we only need to use GridSearchCV (CV is for Cross Validation). In the GridSearchCV, we need to have a model (we use SVM here as an example, any models can work) and the hyper-parameters grid. The number of folds is set by CV, and the scoring is the evaluation metrics, in this case we use \"accuracy\". We can keep the other arguments as defaults.\n",
    "\n",
    "After the grid search completes, we can get the best parameters and also the best score (accuracy in this case).\n",
    "\n",
    "There are two methods for model selection, as follows."
   ]
  },
  {
   "cell_type": "markdown",
   "metadata": {
    "pycharm": {
     "name": "#%% md\n"
    }
   },
   "source": [
    "### Train (cross-val) - Test partition"
   ]
  },
  {
   "cell_type": "markdown",
   "metadata": {
    "pycharm": {
     "name": "#%% md\n"
    }
   },
   "source": [
    "In this method, we divide the data into a training set and a test set."
   ]
  },
  {
   "cell_type": "code",
   "execution_count": 14,
   "metadata": {
    "pycharm": {
     "name": "#%%\n"
    }
   },
   "outputs": [],
   "source": [
    "from sklearn.model_selection import train_test_split\n",
    "x_train, x_test, y_train, y_test = train_test_split(x_norm, y, test_size=0.2) #we use 20% of the data for testing"
   ]
  },
  {
   "cell_type": "markdown",
   "metadata": {
    "pycharm": {
     "name": "#%% md\n"
    }
   },
   "source": [
    "Now, we apply cross-validation to the training set using different combinations of hyper-parameters. "
   ]
  },
  {
   "cell_type": "code",
   "execution_count": 15,
   "metadata": {
    "pycharm": {
     "name": "#%%\n"
    }
   },
   "outputs": [
    {
     "name": "stdout",
     "output_type": "stream",
     "text": [
      "Fitting 10 folds for each of 20 candidates, totalling 200 fits\n",
      "Best hyper parameters from the grid search\n",
      "{'C': 10, 'kernel': 'rbf'}\n",
      "0.6239419291338583\n"
     ]
    }
   ],
   "source": [
    "# For more information: \n",
    "# https://scikit-learn.org/stable/modules/generated/sklearn.model_selection.GridSearchCV.html\n",
    "from sklearn.model_selection import GridSearchCV\n",
    "param_grid = {'C': [0.1, 1, 10, 100,200],  \n",
    "              'kernel': ['linear','poly', 'rbf', 'sigmoid']}  \n",
    "\n",
    "mygrid = GridSearchCV(svm, param_grid,cv=10, scoring=\"accuracy\",refit = True, verbose = 3,n_jobs=-1) \n",
    "   \n",
    "# fitting the model for grid search \n",
    "mygrid.fit(x_train, y_train) \n",
    "\n",
    "# print best parameter after tuning \n",
    "print(\"Best hyper parameters from the grid search\")\n",
    "print(mygrid.best_params_) \n",
    "print(mygrid.best_score_)\n"
   ]
  },
  {
   "cell_type": "markdown",
   "metadata": {
    "pycharm": {
     "name": "#%% md\n"
    }
   },
   "source": [
    "The best model is stored in \"mygrid\". We can apply it to the test set now."
   ]
  },
  {
   "cell_type": "code",
   "execution_count": 16,
   "metadata": {
    "pycharm": {
     "name": "#%%\n"
    }
   },
   "outputs": [
    {
     "name": "stdout",
     "output_type": "stream",
     "text": [
      "Test accuracy 0.625000\n"
     ]
    }
   ],
   "source": [
    "from sklearn.metrics import accuracy_score\n",
    "pred = mygrid.predict(x_test) \n",
    "accuracy = accuracy_score(y_true=y_test,y_pred=pred)\n",
    "print(\"Test accuracy %f\"%(accuracy))"
   ]
  },
  {
   "cell_type": "markdown",
   "metadata": {
    "pycharm": {
     "name": "#%% md\n"
    }
   },
   "source": [
    "### Train-Val-Test"
   ]
  },
  {
   "cell_type": "markdown",
   "metadata": {
    "pycharm": {
     "name": "#%% md\n"
    }
   },
   "source": [
    "This method partitions the data into a training set, a validation set, and a test set. In the code below we use 20% of the data for testing, 20% of the data for validation and the rest (60%) for training."
   ]
  },
  {
   "cell_type": "code",
   "execution_count": 17,
   "metadata": {
    "pycharm": {
     "name": "#%%\n"
    }
   },
   "outputs": [],
   "source": [
    "x_trainval, x_test, y_trainval, y_test = train_test_split(x_norm, y, test_size=0.2)\n",
    "x_train, x_val, y_train, y_val = train_test_split(x_trainval,y_trainval,test_size=0.25)"
   ]
  },
  {
   "cell_type": "markdown",
   "metadata": {
    "pycharm": {
     "name": "#%% md\n"
    }
   },
   "source": [
    "We also apply grid search for model selection. However, different from the previous method, in this method we select the best hyper-parameters using the performance of the model on the validation set. To this end, we employ  PredefineSplit to specify the validation set as 1 fold cross-validation (which means the model will train on the training set and the performance on the validation set is used to rank the hyper-parameters)."
   ]
  },
  {
   "cell_type": "code",
   "execution_count": 18,
   "metadata": {
    "pycharm": {
     "name": "#%%\n"
    }
   },
   "outputs": [
    {
     "name": "stdout",
     "output_type": "stream",
     "text": [
      "Fitting 1 folds for each of 20 candidates, totalling 20 fits\n"
     ]
    },
    {
     "data": {
      "text/html": [
       "<style>#sk-container-id-1 {color: black;background-color: white;}#sk-container-id-1 pre{padding: 0;}#sk-container-id-1 div.sk-toggleable {background-color: white;}#sk-container-id-1 label.sk-toggleable__label {cursor: pointer;display: block;width: 100%;margin-bottom: 0;padding: 0.3em;box-sizing: border-box;text-align: center;}#sk-container-id-1 label.sk-toggleable__label-arrow:before {content: \"▸\";float: left;margin-right: 0.25em;color: #696969;}#sk-container-id-1 label.sk-toggleable__label-arrow:hover:before {color: black;}#sk-container-id-1 div.sk-estimator:hover label.sk-toggleable__label-arrow:before {color: black;}#sk-container-id-1 div.sk-toggleable__content {max-height: 0;max-width: 0;overflow: hidden;text-align: left;background-color: #f0f8ff;}#sk-container-id-1 div.sk-toggleable__content pre {margin: 0.2em;color: black;border-radius: 0.25em;background-color: #f0f8ff;}#sk-container-id-1 input.sk-toggleable__control:checked~div.sk-toggleable__content {max-height: 200px;max-width: 100%;overflow: auto;}#sk-container-id-1 input.sk-toggleable__control:checked~label.sk-toggleable__label-arrow:before {content: \"▾\";}#sk-container-id-1 div.sk-estimator input.sk-toggleable__control:checked~label.sk-toggleable__label {background-color: #d4ebff;}#sk-container-id-1 div.sk-label input.sk-toggleable__control:checked~label.sk-toggleable__label {background-color: #d4ebff;}#sk-container-id-1 input.sk-hidden--visually {border: 0;clip: rect(1px 1px 1px 1px);clip: rect(1px, 1px, 1px, 1px);height: 1px;margin: -1px;overflow: hidden;padding: 0;position: absolute;width: 1px;}#sk-container-id-1 div.sk-estimator {font-family: monospace;background-color: #f0f8ff;border: 1px dotted black;border-radius: 0.25em;box-sizing: border-box;margin-bottom: 0.5em;}#sk-container-id-1 div.sk-estimator:hover {background-color: #d4ebff;}#sk-container-id-1 div.sk-parallel-item::after {content: \"\";width: 100%;border-bottom: 1px solid gray;flex-grow: 1;}#sk-container-id-1 div.sk-label:hover label.sk-toggleable__label {background-color: #d4ebff;}#sk-container-id-1 div.sk-serial::before {content: \"\";position: absolute;border-left: 1px solid gray;box-sizing: border-box;top: 0;bottom: 0;left: 50%;z-index: 0;}#sk-container-id-1 div.sk-serial {display: flex;flex-direction: column;align-items: center;background-color: white;padding-right: 0.2em;padding-left: 0.2em;position: relative;}#sk-container-id-1 div.sk-item {position: relative;z-index: 1;}#sk-container-id-1 div.sk-parallel {display: flex;align-items: stretch;justify-content: center;background-color: white;position: relative;}#sk-container-id-1 div.sk-item::before, #sk-container-id-1 div.sk-parallel-item::before {content: \"\";position: absolute;border-left: 1px solid gray;box-sizing: border-box;top: 0;bottom: 0;left: 50%;z-index: -1;}#sk-container-id-1 div.sk-parallel-item {display: flex;flex-direction: column;z-index: 1;position: relative;background-color: white;}#sk-container-id-1 div.sk-parallel-item:first-child::after {align-self: flex-end;width: 50%;}#sk-container-id-1 div.sk-parallel-item:last-child::after {align-self: flex-start;width: 50%;}#sk-container-id-1 div.sk-parallel-item:only-child::after {width: 0;}#sk-container-id-1 div.sk-dashed-wrapped {border: 1px dashed gray;margin: 0 0.4em 0.5em 0.4em;box-sizing: border-box;padding-bottom: 0.4em;background-color: white;}#sk-container-id-1 div.sk-label label {font-family: monospace;font-weight: bold;display: inline-block;line-height: 1.2em;}#sk-container-id-1 div.sk-label-container {text-align: center;}#sk-container-id-1 div.sk-container {/* jupyter's `normalize.less` sets `[hidden] { display: none; }` but bootstrap.min.css set `[hidden] { display: none !important; }` so we also need the `!important` here to be able to override the default hidden behavior on the sphinx rendered scikit-learn.org. See: https://github.com/scikit-learn/scikit-learn/issues/21755 */display: inline-block !important;position: relative;}#sk-container-id-1 div.sk-text-repr-fallback {display: none;}</style><div id=\"sk-container-id-1\" class=\"sk-top-container\"><div class=\"sk-text-repr-fallback\"><pre>GridSearchCV(cv=PredefinedSplit(test_fold=array([-1, -1, ...,  0,  0])),\n",
       "             estimator=SVC(), n_jobs=-1,\n",
       "             param_grid={&#x27;C&#x27;: [0.1, 1, 10, 100, 200],\n",
       "                         &#x27;kernel&#x27;: [&#x27;linear&#x27;, &#x27;poly&#x27;, &#x27;rbf&#x27;, &#x27;sigmoid&#x27;]},\n",
       "             scoring=&#x27;accuracy&#x27;, verbose=3)</pre><b>In a Jupyter environment, please rerun this cell to show the HTML representation or trust the notebook. <br />On GitHub, the HTML representation is unable to render, please try loading this page with nbviewer.org.</b></div><div class=\"sk-container\" hidden><div class=\"sk-item sk-dashed-wrapped\"><div class=\"sk-label-container\"><div class=\"sk-label sk-toggleable\"><input class=\"sk-toggleable__control sk-hidden--visually\" id=\"sk-estimator-id-1\" type=\"checkbox\" ><label for=\"sk-estimator-id-1\" class=\"sk-toggleable__label sk-toggleable__label-arrow\">GridSearchCV</label><div class=\"sk-toggleable__content\"><pre>GridSearchCV(cv=PredefinedSplit(test_fold=array([-1, -1, ...,  0,  0])),\n",
       "             estimator=SVC(), n_jobs=-1,\n",
       "             param_grid={&#x27;C&#x27;: [0.1, 1, 10, 100, 200],\n",
       "                         &#x27;kernel&#x27;: [&#x27;linear&#x27;, &#x27;poly&#x27;, &#x27;rbf&#x27;, &#x27;sigmoid&#x27;]},\n",
       "             scoring=&#x27;accuracy&#x27;, verbose=3)</pre></div></div></div><div class=\"sk-parallel\"><div class=\"sk-parallel-item\"><div class=\"sk-item\"><div class=\"sk-label-container\"><div class=\"sk-label sk-toggleable\"><input class=\"sk-toggleable__control sk-hidden--visually\" id=\"sk-estimator-id-2\" type=\"checkbox\" ><label for=\"sk-estimator-id-2\" class=\"sk-toggleable__label sk-toggleable__label-arrow\">estimator: SVC</label><div class=\"sk-toggleable__content\"><pre>SVC()</pre></div></div></div><div class=\"sk-serial\"><div class=\"sk-item\"><div class=\"sk-estimator sk-toggleable\"><input class=\"sk-toggleable__control sk-hidden--visually\" id=\"sk-estimator-id-3\" type=\"checkbox\" ><label for=\"sk-estimator-id-3\" class=\"sk-toggleable__label sk-toggleable__label-arrow\">SVC</label><div class=\"sk-toggleable__content\"><pre>SVC()</pre></div></div></div></div></div></div></div></div></div></div>"
      ],
      "text/plain": [
       "GridSearchCV(cv=PredefinedSplit(test_fold=array([-1, -1, ...,  0,  0])),\n",
       "             estimator=SVC(), n_jobs=-1,\n",
       "             param_grid={'C': [0.1, 1, 10, 100, 200],\n",
       "                         'kernel': ['linear', 'poly', 'rbf', 'sigmoid']},\n",
       "             scoring='accuracy', verbose=3)"
      ]
     },
     "execution_count": 18,
     "metadata": {},
     "output_type": "execute_result"
    }
   ],
   "source": [
    "from sklearn.model_selection import PredefinedSplit\n",
    "\n",
    "# Combine the train, and val dataset together\n",
    "all_inputs = np.append(x_train,x_val,axis=0)\n",
    "all_labels = np.append(y_train,y_val)\n",
    "# define the val part in all_inputs is for validation\n",
    "val_inds = [-1]*x_train.shape[0] + [0]*x_val.shape[0]\n",
    "ps   = PredefinedSplit(test_fold=val_inds)\n",
    "# employ Grid Search with cross validation, but now there is only 1 fold with the val part is for validation\n",
    "mygrid = GridSearchCV(svm, param_grid,cv=ps, scoring=\"accuracy\",refit = True, verbose = 3,n_jobs=-1) \n",
    "   \n",
    "# fitting the model for grid search \n",
    "mygrid.fit(all_inputs, all_labels) "
   ]
  },
  {
   "cell_type": "markdown",
   "metadata": {
    "pycharm": {
     "name": "#%% md\n"
    }
   },
   "source": [
    "After the grid search, we can get the best hyper-parameters from the grid."
   ]
  },
  {
   "cell_type": "code",
   "execution_count": 19,
   "metadata": {
    "pycharm": {
     "name": "#%%\n"
    }
   },
   "outputs": [
    {
     "name": "stdout",
     "output_type": "stream",
     "text": [
      "Best hyper parameters from the grid search\n",
      "{'C': 10, 'kernel': 'rbf'}\n",
      "0.653125\n"
     ]
    }
   ],
   "source": [
    "print(\"Best hyper parameters from the grid search\")\n",
    "print(mygrid.best_params_) \n",
    "print(mygrid.best_score_)"
   ]
  },
  {
   "cell_type": "markdown",
   "metadata": {
    "pycharm": {
     "name": "#%% md\n"
    }
   },
   "source": [
    "and finally, we apply the model with the selected hype-parameters to the test set."
   ]
  },
  {
   "cell_type": "code",
   "execution_count": 20,
   "metadata": {
    "pycharm": {
     "name": "#%%\n"
    }
   },
   "outputs": [
    {
     "name": "stdout",
     "output_type": "stream",
     "text": [
      "Test accuracy 0.603125\n"
     ]
    }
   ],
   "source": [
    "pred = mygrid.predict(x_test) \n",
    "accuracy = accuracy_score(y_true=y_test,y_pred=pred)\n",
    "print(\"Test accuracy %f\"%(accuracy))"
   ]
  },
  {
   "cell_type": "markdown",
   "metadata": {
    "pycharm": {
     "name": "#%% md\n"
    }
   },
   "source": [
    "# Exercise"
   ]
  },
  {
   "cell_type": "markdown",
   "metadata": {
    "pycharm": {
     "name": "#%% md\n"
    }
   },
   "source": [
    "In this exercise, you will play with MNIST Handwritten dataset. Please follow the instruction below to load the data."
   ]
  },
  {
   "cell_type": "code",
   "execution_count": 21,
   "metadata": {
    "pycharm": {
     "name": "#%%\n"
    }
   },
   "outputs": [],
   "source": [
    "import warnings\n",
    "warnings.filterwarnings('ignore')\n",
    "import tensorflow as tf\n",
    "mnist = tf.keras.datasets.mnist\n",
    "(x_train, y_train), (x_test, y_test) = mnist.load_data()\n",
    "x_train = np.reshape(x_train,(-1,784))\n",
    "x_test = np.reshape(x_test,(-1,784))\n"
   ]
  },
  {
   "cell_type": "markdown",
   "metadata": {
    "pycharm": {
     "name": "#%% md\n"
    }
   },
   "source": [
    "##### If you have successfully downloaded the MNIST dataset using tf please skip the next step and go to In[45] directly. If you cannot download the dataset from tf, please use the local file. The local file can be downloaded from MyLO. Load the data by running the next step In[44]."
   ]
  },
  {
   "cell_type": "code",
   "execution_count": 22,
   "metadata": {
    "pycharm": {
     "name": "#%%\n"
    }
   },
   "outputs": [],
   "source": [
    "# from toolkit import MNIST\n",
    "# data = MNIST(download=False)\n",
    "# # only use 5000 samples for training to save time\n",
    "# x_train = data.x_train[:5000,:]  \n",
    "# y_train = data.y_train[:5000]\n",
    "# x_val   = data.x_val\n",
    "# y_val   = data.y_val\n",
    "# x_test  = data.x_test\n",
    "# y_test  = data.y_test\n",
    "# print(\"Number of sample for train: %d, validation: %d, test: %d\"%(x_train.shape[0],x_val.shape[0],x_test.shape[0]))"
   ]
  },
  {
   "cell_type": "markdown",
   "metadata": {
    "pycharm": {
     "name": "#%% md\n"
    }
   },
   "source": [
    "Let's split the data into traing, validation, and test"
   ]
  },
  {
   "cell_type": "code",
   "execution_count": 23,
   "metadata": {
    "pycharm": {
     "name": "#%%\n"
    }
   },
   "outputs": [
    {
     "name": "stdout",
     "output_type": "stream",
     "text": [
      "Number of sample for train: 5000, validation: 5000, test: 5000\n"
     ]
    }
   ],
   "source": [
    "x_val   = x_train[55000:,:]\n",
    "y_val   = y_train[55000:]\n",
    "x_train = x_train[:5000,:]\n",
    "y_train = y_train[:5000]\n",
    "x_test  = x_test[:5000,:]\n",
    "y_test  = y_test[:5000]\n",
    "\n",
    "print(\"Number of sample for train: %d, validation: %d, test: %d\"%(x_train.shape[0],x_val.shape[0],x_test.shape[0]))"
   ]
  },
  {
   "cell_type": "markdown",
   "metadata": {
    "pycharm": {
     "name": "#%% md\n"
    }
   },
   "source": [
    "MNIST dataset consists of handwritten digit images. The images are numbers, ranging from 0 to 9. Your task is to train a model to predict the correct digit from the images. In the following code, we show 100 samples of the images."
   ]
  },
  {
   "cell_type": "code",
   "execution_count": 24,
   "metadata": {
    "pycharm": {
     "name": "#%%\n"
    }
   },
   "outputs": [
    {
     "data": {
      "image/png": "[encoded data removed]",
      "text/plain": [
       "<Figure size 720x720 with 100 Axes>"
      ]
     },
     "metadata": {
      "needs_background": "light"
     },
     "output_type": "display_data"
    }
   ],
   "source": [
    "import matplotlib.pyplot as plt\n",
    "fig, axs = plt.subplots(5,20,figsize=(10,10))\n",
    "for i in range(5):\n",
    "    for j in range(20):\n",
    "        # convert feature vector into an image matrix\n",
    "        img = x_train[i*20+j,:].reshape([28,28]) \n",
    "        axs[i,j].imshow(img,cmap='gray')                                                                            \n",
    "plt.show()"
   ]
  },
  {
   "cell_type": "markdown",
   "metadata": {
    "pycharm": {
     "name": "#%% md\n"
    }
   },
   "source": [
    "The images are in a gray scale with the size 28x28. In the dataset, we already convert the images into arrays of 784 features and normalise the data, so no normalisation code is needed for this exercise. "
   ]
  },
  {
   "cell_type": "markdown",
   "metadata": {
    "pycharm": {
     "name": "#%% md\n"
    }
   },
   "source": [
    "You should adapt the grid search learnt earlier for this task. Complete the following grid search function and modify it to suit the task."
   ]
  },
  {
   "cell_type": "code",
   "execution_count": 25,
   "metadata": {
    "pycharm": {
     "name": "#%%\n"
    }
   },
   "outputs": [],
   "source": [
    "import numpy as np\n",
    "from sklearn.model_selection import GridSearchCV\n",
    "from sklearn.model_selection import PredefinedSplit\n",
    "\n",
    "def grid_search(model, grid_params):\n",
    "    all_inputs = np.append(x_train, x_val, axis=0)\n",
    "    all_labels = np.append(y_train, y_val)\n",
    "\n",
    "    val_inds = [-1]*x_train.shape[0] + [0]*x_val.shape[0]\n",
    "    ps   = PredefinedSplit(test_fold=val_inds)\n",
    "\n",
    "    print(\"Start training ...\")\n",
    "    # employ Grid Search with cross validation, but now there is only 1 fold with the val part is for validation\n",
    "    grid = GridSearchCV(model, param_grid=grid_params,cv=ps, scoring=\"accuracy\",refit = True, verbose = 3,n_jobs=-1) \n",
    "    \n",
    "    # fitting the model for grid search \n",
    "    grid.fit(all_inputs, all_labels) \n",
    "\n",
    "    print(\"Finish training\")\n",
    "    \n",
    "    return grid"
   ]
  },
  {
   "cell_type": "markdown",
   "metadata": {
    "pycharm": {
     "name": "#%% md\n"
    }
   },
   "source": [
    "Use Support Vector Machines and Random Forest. For each model, use grid search to find a good value for one hyper-parameter (your choice). Report the model that has the best performance on the test set."
   ]
  },
  {
   "cell_type": "code",
   "execution_count": 26,
   "metadata": {
    "pycharm": {
     "name": "#%%\n"
    }
   },
   "outputs": [
    {
     "name": "stdout",
     "output_type": "stream",
     "text": [
      "Start training ...\n",
      "Fitting 1 folds for each of 16 candidates, totalling 16 fits\n",
      "Finish training\n"
     ]
    }
   ],
   "source": [
    "# SVM\n",
    "param_grid = {\n",
    "    'C': [0.1, 1, 10, 100],  \n",
    "    'kernel': ['linear','poly', 'rbf', 'sigmoid']\n",
    "}  \n",
    "grid = grid_search(svm, grid_params=param_grid)"
   ]
  },
  {
   "cell_type": "code",
   "execution_count": 27,
   "metadata": {
    "pycharm": {
     "name": "#%%\n"
    }
   },
   "outputs": [
    {
     "name": "stdout",
     "output_type": "stream",
     "text": [
      "SVM best model {'C': 10, 'kernel': 'rbf'}\n",
      "Test accuracy 0.950000\n"
     ]
    }
   ],
   "source": [
    "print(\"SVM best model\", grid.best_params_)\n",
    "\n",
    "pred = grid.predict(x_test) \n",
    "accuracy = accuracy_score(y_true=y_test,y_pred=pred)\n",
    "print(\"Test accuracy %f\"%(accuracy))"
   ]
  },
  {
   "cell_type": "code",
   "execution_count": 28,
   "metadata": {
    "pycharm": {
     "name": "#%%\n"
    }
   },
   "outputs": [
    {
     "name": "stdout",
     "output_type": "stream",
     "text": [
      "Start training ...\n",
      "Fitting 1 folds for each of 18 candidates, totalling 18 fits\n",
      "Finish training\n"
     ]
    }
   ],
   "source": [
    "# Random Forest\n",
    "from sklearn.ensemble import RandomForestClassifier\n",
    "\n",
    "param_grid = {\n",
    "    'n_estimators': [50, 100, 200],  \n",
    "    'criterion': ['gini','entropy'],\n",
    "    'min_samples_leaf': [1, 3, 5]\n",
    "}  \n",
    "grid = grid_search(RandomForestClassifier(), grid_params=param_grid)\n"
   ]
  },
  {
   "cell_type": "code",
   "execution_count": 29,
   "metadata": {
    "pycharm": {
     "name": "#%%\n"
    }
   },
   "outputs": [
    {
     "name": "stdout",
     "output_type": "stream",
     "text": [
      "Random Forest best model {'criterion': 'gini', 'min_samples_leaf': 1, 'n_estimators': 100}\n",
      "Test accuracy 0.927000\n"
     ]
    }
   ],
   "source": [
    "print(\"Random Forest best model\", grid.best_params_)\n",
    "\n",
    "pred = grid.predict(x_test) \n",
    "accuracy = accuracy_score(y_true=y_test,y_pred=pred)\n",
    "print(\"Test accuracy %f\"%(accuracy))"
   ]
  }
 ],
 "metadata": {
  "kernelspec": {
   "display_name": "Python 3.10.5 64-bit",
   "language": "python",
   "name": "python3"
  },
  "language_info": {
   "codemirror_mode": {
    "name": "ipython",
    "version": 3
   },
   "file_extension": ".py",
   "mimetype": "text/x-python",
   "name": "python",
   "nbconvert_exporter": "python",
   "pygments_lexer": "ipython3",
   "version": "3.10.5"
  },
  "vscode": {
   "interpreter": {
    "hash": "f7c184107aed90e61f21a107d83f6d0078a177071f5a0db3f42787e18d37abad"
   }
  }
 },
 "nbformat": 4,
 "nbformat_minor": 2
}
