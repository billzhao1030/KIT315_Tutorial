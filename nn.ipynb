{
 "cells": [
  {
   "cell_type": "markdown",
   "metadata": {
    "pycharm": {
     "name": "#%% md\n"
    }
   },
   "source": [
    "# KIT315 Tutorial-5 (Week 6) \n",
    "# Neural Networks for Image Classification"
   ]
  },
  {
   "cell_type": "markdown",
   "metadata": {
    "pycharm": {
     "name": "#%% md\n"
    }
   },
   "source": [
    "In this tutorial, we will learn how to apply neural networks to classify images. We will need:\n",
    "\n",
    "- opencv\n",
    "- tensorflow 2"
   ]
  },
  {
   "cell_type": "markdown",
   "metadata": {
    "pycharm": {
     "name": "#%% md\n"
    }
   },
   "source": [
    "## Dataset"
   ]
  },
  {
   "cell_type": "markdown",
   "metadata": {
    "pycharm": {
     "name": "#%% md\n"
    }
   },
   "source": [
    "Let's import the functions needed for the tutorial first."
   ]
  },
  {
   "cell_type": "code",
   "execution_count": 3,
   "metadata": {
    "pycharm": {
     "name": "#%%\n"
    }
   },
   "outputs": [],
   "source": [
    "import numpy as np\n",
    "from tensorflow import keras"
   ]
  },
  {
   "cell_type": "markdown",
   "metadata": {
    "pycharm": {
     "name": "#%% md\n"
    }
   },
   "source": [
    "Load the image data."
   ]
  },
  {
   "cell_type": "code",
   "execution_count": 4,
   "metadata": {
    "pycharm": {
     "name": "#%%\n"
    }
   },
   "outputs": [],
   "source": [
    "(x_train, y_train), (x_test, y_test) = keras.datasets.cifar10.load_data()"
   ]
  },
  {
   "cell_type": "markdown",
   "metadata": {
    "pycharm": {
     "name": "#%% md\n"
    }
   },
   "source": [
    "NOTE: If the data loading code above does not work, please load the data directly from the pickle file using the code below."
   ]
  },
  {
   "cell_type": "code",
   "execution_count": null,
   "metadata": {
    "pycharm": {
     "name": "#%%\n"
    }
   },
   "outputs": [],
   "source": [
    "# import pickle\n",
    "# import gzip\n",
    "# import os\n",
    "\n",
    "# pkl_file = \"./cifar10.pkl.gz\"\n",
    "# with gzip.open(pkl_file, \"r\") as f:\n",
    "#     dicts = pickle.load(f)\n",
    "#     x_train = dicts[\"x_train\"]\n",
    "#     y_train = dicts[\"y_train\"]\n",
    "#     x_test  = dicts[\"x_test\"]\n",
    "#     y_test  = dicts[\"y_test\"]"
   ]
  },
  {
   "cell_type": "markdown",
   "metadata": {
    "pycharm": {
     "name": "#%% md\n"
    }
   },
   "source": [
    "Show the shape of the data."
   ]
  },
  {
   "cell_type": "code",
   "execution_count": 3,
   "metadata": {
    "pycharm": {
     "name": "#%%\n"
    }
   },
   "outputs": [
    {
     "name": "stdout",
     "output_type": "stream",
     "text": [
      "(50000, 32, 32, 3)\n",
      "(50000, 1)\n",
      "(10000, 32, 32, 3)\n",
      "(10000, 1)\n",
      "[0 1 2 3 4 5 6 7 8 9]\n"
     ]
    }
   ],
   "source": [
    "print(x_train.shape)\n",
    "print(y_train.shape)\n",
    "print(x_test.shape)\n",
    "print(y_test.shape)\n",
    "print(np.unique(y_test))"
   ]
  },
  {
   "cell_type": "markdown",
   "metadata": {
    "pycharm": {
     "name": "#%% md\n"
    }
   },
   "source": [
    "Now we can view the images. Just choose one and display it."
   ]
  },
  {
   "cell_type": "code",
   "execution_count": 4,
   "metadata": {
    "pycharm": {
     "name": "#%%\n"
    }
   },
   "outputs": [
    {
     "name": "stdout",
     "output_type": "stream",
     "text": [
      "[8]\n"
     ]
    },
    {
     "data": {
      "image/png": "[encoded data removed]",
      "text/plain": [
       "<Figure size 72x72 with 1 Axes>"
      ]
     },
     "metadata": {
      "needs_background": "light"
     },
     "output_type": "display_data"
    }
   ],
   "source": [
    "import matplotlib.pyplot as plt\n",
    "inx =100\n",
    "plt.figure(figsize = (1,1))\n",
    "plt.imshow(x_train[inx,:,:,:])\n",
    "print(y_train[inx])"
   ]
  },
  {
   "cell_type": "markdown",
   "metadata": {
    "pycharm": {
     "name": "#%% md\n"
    }
   },
   "source": [
    "These are images of objects in 10 categories.\n",
    "\n",
    "- airplane : 0 \n",
    "- automobile : 1 \n",
    "- bird : 2 \n",
    "- cat : 3 \n",
    "- deer : 4 \n",
    "- dog : 5 \n",
    "- frog : 6 \n",
    "- horse : 7 \n",
    "- ship : 8 \n",
    "- truck : 9"
   ]
  },
  {
   "cell_type": "markdown",
   "metadata": {
    "pycharm": {
     "name": "#%% md\n"
    }
   },
   "source": [
    "Different from MNIST handwritten digits we played with before, CIFAR images are color images. A color image can be represented as 3 channels, one for Red color, one for Green color, and one for Blue color. The size of the images is 32x32. Therefore, each image is represented by a 3-dimensional array: 32x32x3. Now, let's extract each channel and visualise it."
   ]
  },
  {
   "cell_type": "code",
   "execution_count": 5,
   "metadata": {
    "pycharm": {
     "name": "#%%\n"
    }
   },
   "outputs": [
    {
     "data": {
      "image/png": "[encoded data removed]",
      "text/plain": [
       "<Figure size 432x288 with 3 Axes>"
      ]
     },
     "metadata": {
      "needs_background": "light"
     },
     "output_type": "display_data"
    }
   ],
   "source": [
    "dim = np.zeros((32,32))\n",
    "\n",
    "plt.subplot(1,3,1)\n",
    "plt.imshow(np.stack((x_train[inx,:,:,0]/255,dim, dim), axis=2)) # axis stands for stack from which dimension \n",
    "plt.xlabel(\"Red\")\n",
    "plt.subplot(1,3,2)\n",
    "plt.imshow(np.stack((dim,x_train[inx,:,:,1]/255, dim), axis=2))\n",
    "plt.xlabel(\"Green\")\n",
    "plt.subplot(1,3,3)\n",
    "plt.imshow(np.stack((dim, dim,x_train[inx,:,:,2]/255), axis=2))\n",
    "plt.xlabel(\"Blue\")\n",
    "plt.tight_layout()"
   ]
  },
  {
   "cell_type": "markdown",
   "metadata": {
    "pycharm": {
     "name": "#%% md\n"
    }
   },
   "source": [
    "## Tensorflow-Keras"
   ]
  },
  {
   "cell_type": "markdown",
   "metadata": {
    "pycharm": {
     "name": "#%% md\n"
    }
   },
   "source": [
    "In this section, we will employ Tensorflow-Keras to build neural networks for image classification. We don't use Scikit-learn because Tensorflow is more powerful for neural networks."
   ]
  },
  {
   "cell_type": "code",
   "execution_count": 5,
   "metadata": {
    "pycharm": {
     "name": "#%%\n"
    }
   },
   "outputs": [],
   "source": [
    "import tensorflow as tf\n",
    "from tensorflow.keras import layers, models, utils\n",
    "from tensorflow.keras.models import Sequential"
   ]
  },
  {
   "cell_type": "markdown",
   "metadata": {
    "pycharm": {
     "name": "#%% md\n"
    }
   },
   "source": [
    "First, we need to reshape the image so that we can have each image can be represented by a vector of 32*32*3 elements. We also normalise the pixel values to 0-1, by dividing the vector to 225 (the maximum value of a pixel)."
   ]
  },
  {
   "cell_type": "code",
   "execution_count": 6,
   "metadata": {
    "pycharm": {
     "name": "#%%\n"
    }
   },
   "outputs": [],
   "source": [
    "x_train = np.reshape(x_train,(-1,32*32*3))/255.0\n",
    "x_test = np.reshape(x_test,(-1,32*32*3))/255.0"
   ]
  },
  {
   "cell_type": "markdown",
   "metadata": {
    "pycharm": {
     "name": "#%% md\n"
    }
   },
   "source": [
    "To make the data work with TF, we will need to convert the label into one-hot vector. An one-hot vector is a vector with all 0s, except the position for the label value where it is 1. For example\n",
    "- the label 0 (airplane) will be converted to   [1,0,0,0,0,0,0,0,0,0]\n",
    "- the label 1 (automobile) will be converted to [0,1,0,0,0,0,0,0,0,0]\n",
    "- the label 2 (bird) will be converted to       [0,0,1,0,0,0,0,0,0,0]\n",
    "- the label 3 (cat) will be converted to        [0,0,0,1,0,0,0,0,0,0]\n",
    "- the label 4 (deer) will be converted to       [0,0,0,0,1,0,0,0,0,0]\n",
    "- the label 5 (dog) will be converted to        [0,0,0,0,0,1,0,0,0,0]\n",
    "- the label 6 (frog) will be converted to       [0,0,0,0,0,0,1,0,0,0]\n",
    "- the label 7 (horse) will be converted to      [0,0,0,0,0,0,0,1,0,0]\n",
    "- the label 8 (ship) will be converted to       [0,0,0,0,0,0,0,0,1,0]\n",
    "- the label 9 (truck)will be converted to       [0,0,0,0,0,0,0,0,0,1]"
   ]
  },
  {
   "cell_type": "code",
   "execution_count": 7,
   "metadata": {
    "pycharm": {
     "name": "#%%\n"
    }
   },
   "outputs": [
    {
     "name": "stdout",
     "output_type": "stream",
     "text": [
      "[0 1 2 3 4 5 6 7 8 9]\n"
     ]
    }
   ],
   "source": [
    "from sklearn.preprocessing import OneHotEncoder\n",
    "\n",
    "enc = OneHotEncoder(handle_unknown = 'ignore')\n",
    "enc.fit(y_train)\n",
    "\n",
    "# categories \n",
    "categories = enc.categories_[0]\n",
    "print(categories)\n",
    "# convert to onehot vector\n",
    "y_train_onehot = enc.transform(y_train).toarray()\n",
    "y_test_onehot  = enc.transform(y_test).toarray()"
   ]
  },
  {
   "cell_type": "markdown",
   "metadata": {
    "pycharm": {
     "name": "#%% md\n"
    }
   },
   "source": [
    "Now we initialise a model"
   ]
  },
  {
   "cell_type": "code",
   "execution_count": 9,
   "metadata": {
    "pycharm": {
     "name": "#%%\n"
    }
   },
   "outputs": [],
   "source": [
    "model=Sequential()"
   ]
  },
  {
   "cell_type": "markdown",
   "metadata": {
    "pycharm": {
     "name": "#%% md\n"
    }
   },
   "source": [
    "and add input layer."
   ]
  },
  {
   "cell_type": "code",
   "execution_count": 10,
   "metadata": {
    "pycharm": {
     "name": "#%%\n"
    }
   },
   "outputs": [],
   "source": [
    "model.add(tf.keras.Input(shape=(32*32*3,)))"
   ]
  },
  {
   "cell_type": "markdown",
   "metadata": {
    "pycharm": {
     "name": "#%% md\n"
    }
   },
   "source": [
    "We will add layers to the model. The layers are called dense layers, more information about the Dense layer can be found here https://www.tensorflow.org/api_docs/python/tf/keras/layers/Dense.\n",
    "\n",
    "There are different activation functions (we learn about linear, sigmoid, tanh, Relu in the lecture). More can be found here https://keras.io/api/layers/activations/\n",
    "\n",
    "We will add 3 hidden layers, the first layer has 200 units, the second layer has 100 units, and the third one has 50 units."
   ]
  },
  {
   "cell_type": "code",
   "execution_count": 11,
   "metadata": {
    "pycharm": {
     "name": "#%%\n"
    }
   },
   "outputs": [],
   "source": [
    "model.add(layers.Dense(200,activation=\"relu\"))\n",
    "model.add(layers.Dense(100,activation=\"relu\"))\n",
    "model.add(layers.Dense(50,activation=\"relu\"))"
   ]
  },
  {
   "cell_type": "markdown",
   "metadata": {
    "pycharm": {
     "name": "#%% md\n"
    }
   },
   "source": [
    "Finally we add the output layer. As we are doing classification, the layer will be softmax."
   ]
  },
  {
   "cell_type": "code",
   "execution_count": 12,
   "metadata": {
    "pycharm": {
     "name": "#%%\n"
    }
   },
   "outputs": [],
   "source": [
    "model.add(layers.Dense(10,activation='softmax')) "
   ]
  },
  {
   "cell_type": "markdown",
   "metadata": {
    "pycharm": {
     "name": "#%% md\n"
    }
   },
   "source": [
    "For training, we can use SGD or Adam. More can be found here https://www.tensorflow.org/api_docs/python/tf/keras/optimizers\n",
    "\n",
    "Please notice the learning rate (lr, or learning_rate)."
   ]
  },
  {
   "cell_type": "code",
   "execution_count": 13,
   "metadata": {
    "pycharm": {
     "name": "#%%\n"
    }
   },
   "outputs": [],
   "source": [
    "from tensorflow.keras import optimizers\n",
    "\n",
    "opt = optimizers.Adam(learning_rate=0.001)\n",
    "model.compile(loss='categorical_crossentropy',optimizer = opt,metrics=['accuracy'])"
   ]
  },
  {
   "cell_type": "markdown",
   "metadata": {
    "pycharm": {
     "name": "#%% md\n"
    }
   },
   "source": [
    "We can review the neural network using summary() function."
   ]
  },
  {
   "cell_type": "code",
   "execution_count": 14,
   "metadata": {
    "pycharm": {
     "name": "#%%\n"
    }
   },
   "outputs": [
    {
     "name": "stdout",
     "output_type": "stream",
     "text": [
      "Model: \"sequential\"\n",
      "_________________________________________________________________\n",
      " Layer (type)                Output Shape              Param #   \n",
      "=================================================================\n",
      " dense (Dense)               (None, 200)               614600    \n",
      "                                                                 \n",
      " dense_1 (Dense)             (None, 100)               20100     \n",
      "                                                                 \n",
      " dense_2 (Dense)             (None, 50)                5050      \n",
      "                                                                 \n",
      " dense_3 (Dense)             (None, 10)                510       \n",
      "                                                                 \n",
      "=================================================================\n",
      "Total params: 640,260\n",
      "Trainable params: 640,260\n",
      "Non-trainable params: 0\n",
      "_________________________________________________________________\n"
     ]
    }
   ],
   "source": [
    "model.summary()"
   ]
  },
  {
   "cell_type": "markdown",
   "metadata": {
    "pycharm": {
     "name": "#%% md\n"
    }
   },
   "source": [
    "We can start the training now. Note down the values of batch_size, epochs (number of training rounds, a round of training finishes when all data samples are used for training, this process repeats). The validation_split denotes the percentage of training data used for validation. Leave suffle=True as it is."
   ]
  },
  {
   "cell_type": "code",
   "execution_count": 15,
   "metadata": {
    "pycharm": {
     "name": "#%%\n"
    }
   },
   "outputs": [
    {
     "name": "stdout",
     "output_type": "stream",
     "text": [
      "Epoch 1/30\n",
      "425/425 [==============================] - 3s 6ms/step - loss: 1.9498 - accuracy: 0.2828 - val_loss: 1.7924 - val_accuracy: 0.3496\n",
      "Epoch 2/30\n",
      "425/425 [==============================] - 2s 5ms/step - loss: 1.7298 - accuracy: 0.3772 - val_loss: 1.7197 - val_accuracy: 0.3887\n",
      "Epoch 3/30\n",
      "425/425 [==============================] - 2s 5ms/step - loss: 1.6547 - accuracy: 0.4042 - val_loss: 1.6579 - val_accuracy: 0.4039\n",
      "Epoch 4/30\n",
      "425/425 [==============================] - 2s 5ms/step - loss: 1.5901 - accuracy: 0.4295 - val_loss: 1.5756 - val_accuracy: 0.4348\n",
      "Epoch 5/30\n",
      "425/425 [==============================] - 2s 6ms/step - loss: 1.5487 - accuracy: 0.4411 - val_loss: 1.5816 - val_accuracy: 0.4368\n",
      "Epoch 6/30\n",
      "425/425 [==============================] - 2s 6ms/step - loss: 1.5177 - accuracy: 0.4559 - val_loss: 1.5358 - val_accuracy: 0.4575\n",
      "Epoch 7/30\n",
      "425/425 [==============================] - 3s 6ms/step - loss: 1.4847 - accuracy: 0.4651 - val_loss: 1.5644 - val_accuracy: 0.4472\n",
      "Epoch 8/30\n",
      "425/425 [==============================] - 3s 8ms/step - loss: 1.4702 - accuracy: 0.4737 - val_loss: 1.5319 - val_accuracy: 0.4521\n",
      "Epoch 9/30\n",
      "425/425 [==============================] - 3s 7ms/step - loss: 1.4411 - accuracy: 0.4821 - val_loss: 1.5173 - val_accuracy: 0.4600\n",
      "Epoch 10/30\n",
      "425/425 [==============================] - 3s 7ms/step - loss: 1.4255 - accuracy: 0.4916 - val_loss: 1.4915 - val_accuracy: 0.4711\n",
      "Epoch 11/30\n",
      "425/425 [==============================] - 3s 7ms/step - loss: 1.4009 - accuracy: 0.4998 - val_loss: 1.4918 - val_accuracy: 0.4699\n",
      "Epoch 12/30\n",
      "425/425 [==============================] - 3s 7ms/step - loss: 1.3897 - accuracy: 0.5032 - val_loss: 1.4970 - val_accuracy: 0.4721\n",
      "Epoch 13/30\n",
      "425/425 [==============================] - 3s 7ms/step - loss: 1.3747 - accuracy: 0.5087 - val_loss: 1.4586 - val_accuracy: 0.4839\n",
      "Epoch 14/30\n",
      "425/425 [==============================] - 3s 7ms/step - loss: 1.3563 - accuracy: 0.5159 - val_loss: 1.4544 - val_accuracy: 0.4795\n",
      "Epoch 15/30\n",
      "425/425 [==============================] - 3s 7ms/step - loss: 1.3402 - accuracy: 0.5211 - val_loss: 1.4907 - val_accuracy: 0.4811\n",
      "Epoch 16/30\n",
      "425/425 [==============================] - 3s 7ms/step - loss: 1.3278 - accuracy: 0.5257 - val_loss: 1.4595 - val_accuracy: 0.4896\n",
      "Epoch 17/30\n",
      "425/425 [==============================] - 3s 7ms/step - loss: 1.3227 - accuracy: 0.5272 - val_loss: 1.4567 - val_accuracy: 0.4913\n",
      "Epoch 18/30\n",
      "425/425 [==============================] - 3s 7ms/step - loss: 1.3010 - accuracy: 0.5362 - val_loss: 1.4518 - val_accuracy: 0.4892\n",
      "Epoch 19/30\n",
      "425/425 [==============================] - 3s 7ms/step - loss: 1.2885 - accuracy: 0.5394 - val_loss: 1.4497 - val_accuracy: 0.4925\n",
      "Epoch 20/30\n",
      "425/425 [==============================] - 3s 7ms/step - loss: 1.2814 - accuracy: 0.5417 - val_loss: 1.4634 - val_accuracy: 0.4813\n",
      "Epoch 21/30\n",
      "425/425 [==============================] - 3s 7ms/step - loss: 1.2701 - accuracy: 0.5487 - val_loss: 1.4438 - val_accuracy: 0.4911\n",
      "Epoch 22/30\n",
      "425/425 [==============================] - 3s 8ms/step - loss: 1.2624 - accuracy: 0.5476 - val_loss: 1.4862 - val_accuracy: 0.4797\n",
      "Epoch 23/30\n",
      "425/425 [==============================] - 3s 8ms/step - loss: 1.2475 - accuracy: 0.5552 - val_loss: 1.4251 - val_accuracy: 0.4964\n",
      "Epoch 24/30\n",
      "425/425 [==============================] - 3s 7ms/step - loss: 1.2325 - accuracy: 0.5560 - val_loss: 1.4203 - val_accuracy: 0.5028\n",
      "Epoch 25/30\n",
      "425/425 [==============================] - 3s 7ms/step - loss: 1.2247 - accuracy: 0.5617 - val_loss: 1.4630 - val_accuracy: 0.4911\n",
      "Epoch 26/30\n",
      "425/425 [==============================] - 3s 7ms/step - loss: 1.2088 - accuracy: 0.5674 - val_loss: 1.4282 - val_accuracy: 0.4937\n",
      "Epoch 27/30\n",
      "425/425 [==============================] - 3s 7ms/step - loss: 1.2064 - accuracy: 0.5693 - val_loss: 1.4634 - val_accuracy: 0.4909\n",
      "Epoch 28/30\n",
      "425/425 [==============================] - 3s 7ms/step - loss: 1.2002 - accuracy: 0.5702 - val_loss: 1.4368 - val_accuracy: 0.4975\n",
      "Epoch 29/30\n",
      "425/425 [==============================] - 3s 7ms/step - loss: 1.1863 - accuracy: 0.5744 - val_loss: 1.4903 - val_accuracy: 0.4785\n",
      "Epoch 30/30\n",
      "425/425 [==============================] - 3s 7ms/step - loss: 1.1774 - accuracy: 0.5796 - val_loss: 1.4388 - val_accuracy: 0.5004\n"
     ]
    }
   ],
   "source": [
    "train_hist = model.fit(x_train,y_train_onehot,batch_size=100,\n",
    "                       epochs=30,verbose=1, validation_split=0.15,\n",
    "                       shuffle=True)"
   ]
  },
  {
   "cell_type": "markdown",
   "metadata": {
    "pycharm": {
     "name": "#%% md\n"
    }
   },
   "source": [
    "We can visualise the training, the left plot shows the accuracy curves of the training set and the validation set. The right plot shows the loss curve (the loss is correlating to the error)."
   ]
  },
  {
   "cell_type": "code",
   "execution_count": 16,
   "metadata": {
    "pycharm": {
     "name": "#%%\n"
    }
   },
   "outputs": [
    {
     "data": {
      "image/png": "[encoded data removed]",
      "text/plain": [
       "<Figure size 1080x360 with 2 Axes>"
      ]
     },
     "metadata": {
      "needs_background": "light"
     },
     "output_type": "display_data"
    }
   ],
   "source": [
    "fig, axs = plt.subplots(1,2,figsize=(15,5))\n",
    "# Show the training accuracy \n",
    "axs[0].plot(train_hist.history['accuracy'])   # 'acc' in sklearn 0.21 / 'accuracy' in sklearn 0.24 \n",
    "axs[0].plot(train_hist.history['val_accuracy']) # val_acc / val_accuracy\n",
    "axs[0].set_title('model accuracy')\n",
    "axs[0].set_ylabel('accuracy')\n",
    "axs[0].set_xlabel('epoch')\n",
    "axs[0].legend(['train', 'validation'])\n",
    "\n",
    "# Show the training loss\n",
    "axs[1].plot(train_hist.history['loss'])\n",
    "axs[1].plot(train_hist.history['val_loss'])\n",
    "axs[1].set_title('model loss')\n",
    "axs[1].set_ylabel('loss')\n",
    "axs[1].set_xlabel('epoch')\n",
    "axs[1].legend(['train', 'validation'])\n",
    "\n",
    "plt.tight_layout()\n",
    "plt.show()"
   ]
  },
  {
   "cell_type": "markdown",
   "metadata": {
    "pycharm": {
     "name": "#%% md\n"
    }
   },
   "source": [
    "Apply the trained model to the test data. Don't worry if the result is bad, your job is to tune the model to get the best result in the Excercise section."
   ]
  },
  {
   "cell_type": "code",
   "execution_count": 17,
   "metadata": {
    "pycharm": {
     "name": "#%%\n"
    }
   },
   "outputs": [
    {
     "name": "stdout",
     "output_type": "stream",
     "text": [
      "313/313 [==============================] - 1s 2ms/step - loss: 1.4180 - accuracy: 0.5049\n",
      "Model's accuracy: 50.49%\n"
     ]
    }
   ],
   "source": [
    "loss, acc = model.evaluate(x_test,y_test_onehot, verbose=1)\n",
    "\n",
    "print(\"Model's accuracy: {:5.2f}%\".format(100*acc))"
   ]
  },
  {
   "cell_type": "markdown",
   "metadata": {
    "pycharm": {
     "name": "#%% md\n"
    }
   },
   "source": [
    "Before doing the excercise, can you identify the the problem with the epochs=200? Can you change to make it better? Note that, if you just modify the model.fit and run the training, the model will reuse what has been learned and continue with it. To train from the beginnig, let's run the code from the initialisation step (model=Sequential())."
   ]
  },
  {
   "cell_type": "markdown",
   "metadata": {
    "pycharm": {
     "name": "#%% md\n"
    }
   },
   "source": [
    "## E. Excercise"
   ]
  },
  {
   "cell_type": "markdown",
   "metadata": {
    "pycharm": {
     "name": "#%% md\n"
    }
   },
   "source": [
    "Apply the strategy in the last week's demonstration session, train a model which can achieve the best result. Report your best result and the settings that you used to achieve it. Explain what you have done using the box below."
   ]
  },
  {
   "cell_type": "code",
   "execution_count": 8,
   "metadata": {},
   "outputs": [
    {
     "name": "stdout",
     "output_type": "stream",
     "text": [
      "Epoch 1/20\n",
      "665/665 [==============================] - 6s 7ms/step - loss: 1.9474 - accuracy: 0.2741 - val_loss: 1.8614 - val_accuracy: 0.3115\n",
      "Epoch 2/20\n",
      "665/665 [==============================] - 5s 8ms/step - loss: 1.7999 - accuracy: 0.3421 - val_loss: 1.7891 - val_accuracy: 0.3499\n",
      "Epoch 3/20\n",
      "665/665 [==============================] - 5s 7ms/step - loss: 1.7352 - accuracy: 0.3692 - val_loss: 1.7743 - val_accuracy: 0.3503\n",
      "Epoch 4/20\n",
      "665/665 [==============================] - 6s 8ms/step - loss: 1.6691 - accuracy: 0.3959 - val_loss: 1.7247 - val_accuracy: 0.3753\n",
      "Epoch 5/20\n",
      "665/665 [==============================] - 7s 10ms/step - loss: 1.6269 - accuracy: 0.4127 - val_loss: 1.6254 - val_accuracy: 0.4173\n",
      "Epoch 6/20\n",
      "665/665 [==============================] - 6s 9ms/step - loss: 1.5858 - accuracy: 0.4283 - val_loss: 1.6410 - val_accuracy: 0.4032\n",
      "Epoch 7/20\n",
      "665/665 [==============================] - 6s 9ms/step - loss: 1.5475 - accuracy: 0.4412 - val_loss: 1.6119 - val_accuracy: 0.4133\n",
      "Epoch 8/20\n",
      "665/665 [==============================] - 6s 9ms/step - loss: 1.5271 - accuracy: 0.4487 - val_loss: 1.5632 - val_accuracy: 0.4404\n",
      "Epoch 9/20\n",
      "665/665 [==============================] - 6s 9ms/step - loss: 1.4914 - accuracy: 0.4663 - val_loss: 1.5765 - val_accuracy: 0.4315\n",
      "Epoch 10/20\n",
      "665/665 [==============================] - 7s 10ms/step - loss: 1.4696 - accuracy: 0.4707 - val_loss: 1.5616 - val_accuracy: 0.4368\n",
      "Epoch 11/20\n",
      "665/665 [==============================] - 6s 10ms/step - loss: 1.4473 - accuracy: 0.4800 - val_loss: 1.5436 - val_accuracy: 0.4463\n",
      "Epoch 12/20\n",
      "665/665 [==============================] - 6s 10ms/step - loss: 1.4222 - accuracy: 0.4880 - val_loss: 1.5406 - val_accuracy: 0.4528\n",
      "Epoch 13/20\n",
      "665/665 [==============================] - 6s 10ms/step - loss: 1.4043 - accuracy: 0.4950 - val_loss: 1.5325 - val_accuracy: 0.4552\n",
      "Epoch 14/20\n",
      "665/665 [==============================] - 6s 9ms/step - loss: 1.3868 - accuracy: 0.5012 - val_loss: 1.5327 - val_accuracy: 0.4535\n",
      "Epoch 15/20\n",
      "665/665 [==============================] - 6s 9ms/step - loss: 1.3597 - accuracy: 0.5099 - val_loss: 1.5375 - val_accuracy: 0.4576\n",
      "Epoch 16/20\n",
      "665/665 [==============================] - 6s 9ms/step - loss: 1.3379 - accuracy: 0.5172 - val_loss: 1.5163 - val_accuracy: 0.4600\n",
      "Epoch 17/20\n",
      "665/665 [==============================] - 6s 10ms/step - loss: 1.3292 - accuracy: 0.5216 - val_loss: 1.4920 - val_accuracy: 0.4787\n",
      "Epoch 18/20\n",
      "665/665 [==============================] - 6s 10ms/step - loss: 1.2956 - accuracy: 0.5343 - val_loss: 1.5199 - val_accuracy: 0.4624\n",
      "Epoch 19/20\n",
      "665/665 [==============================] - 7s 10ms/step - loss: 1.2917 - accuracy: 0.5384 - val_loss: 1.5135 - val_accuracy: 0.4708\n",
      "Epoch 20/20\n",
      "665/665 [==============================] - 6s 9ms/step - loss: 1.2611 - accuracy: 0.5463 - val_loss: 1.5208 - val_accuracy: 0.4764\n",
      "313/313 [==============================] - 1s 3ms/step - loss: 1.5031 - accuracy: 0.4758\n",
      "Model's accuracy: 47.58%\n",
      "Epoch 1/20\n",
      "665/665 [==============================] - 7s 10ms/step - loss: 1.8805 - accuracy: 0.3132 - val_loss: 1.7595 - val_accuracy: 0.3681\n",
      "Epoch 2/20\n",
      "665/665 [==============================] - 7s 10ms/step - loss: 1.6823 - accuracy: 0.3929 - val_loss: 1.6917 - val_accuracy: 0.3985\n",
      "Epoch 3/20\n",
      "665/665 [==============================] - 6s 10ms/step - loss: 1.5958 - accuracy: 0.4261 - val_loss: 1.6785 - val_accuracy: 0.4163\n",
      "Epoch 4/20\n",
      "665/665 [==============================] - 7s 10ms/step - loss: 1.5424 - accuracy: 0.4462 - val_loss: 1.5987 - val_accuracy: 0.4323\n",
      "Epoch 5/20\n",
      "665/665 [==============================] - 7s 10ms/step - loss: 1.4945 - accuracy: 0.4647 - val_loss: 1.5468 - val_accuracy: 0.4452\n",
      "Epoch 6/20\n",
      "665/665 [==============================] - 8s 11ms/step - loss: 1.4483 - accuracy: 0.4812 - val_loss: 1.5189 - val_accuracy: 0.4527\n",
      "Epoch 7/20\n",
      "665/665 [==============================] - 7s 10ms/step - loss: 1.4172 - accuracy: 0.4913 - val_loss: 1.5141 - val_accuracy: 0.4627\n",
      "Epoch 8/20\n",
      "665/665 [==============================] - 6s 9ms/step - loss: 1.3836 - accuracy: 0.5051 - val_loss: 1.4786 - val_accuracy: 0.4727\n",
      "Epoch 9/20\n",
      "665/665 [==============================] - 6s 9ms/step - loss: 1.3526 - accuracy: 0.5144 - val_loss: 1.4780 - val_accuracy: 0.4740\n",
      "Epoch 10/20\n",
      "665/665 [==============================] - 6s 9ms/step - loss: 1.3224 - accuracy: 0.5264 - val_loss: 1.4399 - val_accuracy: 0.4965\n",
      "Epoch 11/20\n",
      "665/665 [==============================] - 6s 9ms/step - loss: 1.2973 - accuracy: 0.5357 - val_loss: 1.4303 - val_accuracy: 0.4907\n",
      "Epoch 12/20\n",
      "665/665 [==============================] - 7s 10ms/step - loss: 1.2707 - accuracy: 0.5471 - val_loss: 1.4244 - val_accuracy: 0.5041\n",
      "Epoch 13/20\n",
      "665/665 [==============================] - 6s 10ms/step - loss: 1.2407 - accuracy: 0.5577 - val_loss: 1.4180 - val_accuracy: 0.5101\n",
      "Epoch 14/20\n",
      "665/665 [==============================] - 6s 10ms/step - loss: 1.2125 - accuracy: 0.5672 - val_loss: 1.4097 - val_accuracy: 0.5033\n",
      "Epoch 15/20\n",
      "665/665 [==============================] - 7s 11ms/step - loss: 1.1866 - accuracy: 0.5760 - val_loss: 1.4066 - val_accuracy: 0.5088\n",
      "Epoch 16/20\n",
      "665/665 [==============================] - 6s 10ms/step - loss: 1.1623 - accuracy: 0.5852 - val_loss: 1.3885 - val_accuracy: 0.5151\n",
      "Epoch 17/20\n",
      "665/665 [==============================] - 7s 11ms/step - loss: 1.1384 - accuracy: 0.5932 - val_loss: 1.3929 - val_accuracy: 0.5119\n",
      "Epoch 18/20\n",
      "665/665 [==============================] - 7s 10ms/step - loss: 1.1115 - accuracy: 0.6029 - val_loss: 1.3910 - val_accuracy: 0.5124\n",
      "Epoch 19/20\n",
      "665/665 [==============================] - 6s 10ms/step - loss: 1.0856 - accuracy: 0.6139 - val_loss: 1.3801 - val_accuracy: 0.5227\n",
      "Epoch 20/20\n",
      "665/665 [==============================] - 6s 10ms/step - loss: 1.0581 - accuracy: 0.6192 - val_loss: 1.4153 - val_accuracy: 0.5168\n",
      "313/313 [==============================] - 1s 3ms/step - loss: 1.3901 - accuracy: 0.5204\n",
      "Model's accuracy: 52.04%\n"
     ]
    }
   ],
   "source": [
    "from keras import optimizers\n",
    "\n",
    "all_test = {}\n",
    "learning_rate_list = [0.001, 0.0001]\n",
    "batch_size_list = [25, 50, 100, 200]\n",
    "layers_list = [4, 6, 8]\n",
    "node_list = [100, 196, 156]\n",
    "\n",
    "for lr in learning_rate_list:\n",
    "    keras.backend.clear_session()\n",
    "    model = Sequential()\n",
    "    model.add(keras.Input(shape=(32*32*3, )))\n",
    "    n_hidden_layers = 8\n",
    "    for i in range(n_hidden_layers):\n",
    "        model.add(layers.Dense(256, activation='relu'))\n",
    "    model.add(layers.Dense(10, activation='softmax'))\n",
    "\n",
    "    from keras import optimizers\n",
    "\n",
    "    opt = keras.optimizers.Adam(lr)\n",
    "    model.compile(loss='categorical_crossentropy', optimizer=opt, metrics=['accuracy'])\n",
    "\n",
    "    #model.summary()\n",
    "\n",
    "    train_hist = model.fit(x_train, y_train_onehot, batch_size=100,\n",
    "    epochs=20,verbose=1, validation_split=0.15, shuffle=True)\n",
    "\n",
    "    loss, acc = model.evaluate(x_test,y_test_onehot, verbose=1)\n",
    "    print(\"Model's accuracy: {:5.2f}%\".format(100*acc))\n",
    "\n",
    "    all_test['lr_%f' % (lr)] = train_hist.history"
   ]
  },
  {
   "cell_type": "code",
   "execution_count": 10,
   "metadata": {},
   "outputs": [
    {
     "data": {
      "image/png": "[encoded data removed]",
      "text/plain": [
       "<Figure size 1080x360 with 2 Axes>"
      ]
     },
     "metadata": {
      "needs_background": "light"
     },
     "output_type": "display_data"
    }
   ],
   "source": [
    "import matplotlib.pyplot as plt\n",
    "fig, axs = plt.subplots(1, 2, figsize=(15, 5))\n",
    "\n",
    "for conf in all_test:\n",
    "    axs[0].plot(all_test[conf]['val_accuracy'], label=conf)\n",
    "    axs[0].set_title('model accuracy')\n",
    "    axs[0].set_ylabel('accuracy')\n",
    "    axs[0].set_xlabel('epoch')\n",
    "    axs[0].legend()\n",
    "\n",
    "    axs[1].plot(all_test[conf]['val_loss'])\n",
    "    axs[1].set_title('model loss')\n",
    "    axs[1].set_ylabel('loss')\n",
    "    axs[1].set_xlabel('epoch')\n",
    "\n",
    "plt.tight_layout()\n",
    "plt.show()"
   ]
  },
  {
   "cell_type": "markdown",
   "metadata": {
    "pycharm": {
     "name": "#%% md\n"
    }
   },
   "source": [
    "batch_size: [25, 50, 100, 200]  similiar, but 25, 50 are not good, and much slow of course<br>\n",
    "learning_rate: [0.001, 0.0001] smaller will be good <br>\n",
    "layers: [4, 6, 8], more will be better <br>\n",
    "node per layer: [100, 192, 256], more will be better <br><br>\n",
    "final choice: bs 100, 256*8, 0.0001 learning rate, 60%+ accuracy, and 52% val_accuracy can be reached"
   ]
  },
  {
   "cell_type": "code",
   "execution_count": 13,
   "metadata": {
    "pycharm": {
     "name": "#%%\n"
    }
   },
   "outputs": [],
   "source": [
    "keras.backend.clear_session()\n",
    "model = Sequential()\n",
    "model.add(keras.Input(shape=(32*32*3, )))"
   ]
  },
  {
   "cell_type": "code",
   "execution_count": 14,
   "metadata": {
    "pycharm": {
     "name": "#%%\n"
    }
   },
   "outputs": [],
   "source": [
    "n_hidden_layers = 8\n",
    "for i in range(n_hidden_layers):\n",
    "    model.add(layers.Dense(256, activation='relu'))\n",
    "\n",
    "model.add(layers.Dense(10, activation='softmax'))\n",
    "\n",
    "opt = optimizers.Adam(learning_rate=0.0001)\n",
    "model.compile(loss='categorical_crossentropy', optimizer=opt, metrics=['accuracy'])"
   ]
  },
  {
   "cell_type": "code",
   "execution_count": 15,
   "metadata": {},
   "outputs": [
    {
     "name": "stdout",
     "output_type": "stream",
     "text": [
      "Epoch 1/25\n",
      "425/425 [==============================] - 4s 9ms/step - loss: 1.9184 - accuracy: 0.2987 - val_loss: 1.7922 - val_accuracy: 0.3535\n",
      "Epoch 2/25\n",
      "425/425 [==============================] - 4s 9ms/step - loss: 1.7238 - accuracy: 0.3787 - val_loss: 1.7245 - val_accuracy: 0.3800\n",
      "Epoch 3/25\n",
      "425/425 [==============================] - 4s 9ms/step - loss: 1.6242 - accuracy: 0.4162 - val_loss: 1.6008 - val_accuracy: 0.4252\n",
      "Epoch 4/25\n",
      "425/425 [==============================] - 4s 10ms/step - loss: 1.5583 - accuracy: 0.4398 - val_loss: 1.5448 - val_accuracy: 0.4451\n",
      "Epoch 5/25\n",
      "425/425 [==============================] - 5s 12ms/step - loss: 1.5119 - accuracy: 0.4611 - val_loss: 1.5299 - val_accuracy: 0.4503\n",
      "Epoch 6/25\n",
      "425/425 [==============================] - 5s 13ms/step - loss: 1.4691 - accuracy: 0.4735 - val_loss: 1.5153 - val_accuracy: 0.4565\n",
      "Epoch 7/25\n",
      "425/425 [==============================] - 5s 12ms/step - loss: 1.4293 - accuracy: 0.4889 - val_loss: 1.4914 - val_accuracy: 0.4732\n",
      "Epoch 8/25\n",
      "425/425 [==============================] - 5s 12ms/step - loss: 1.4013 - accuracy: 0.4980 - val_loss: 1.4972 - val_accuracy: 0.4575\n",
      "Epoch 9/25\n",
      "425/425 [==============================] - 5s 12ms/step - loss: 1.3697 - accuracy: 0.5116 - val_loss: 1.4431 - val_accuracy: 0.4873\n",
      "Epoch 10/25\n",
      "425/425 [==============================] - 5s 13ms/step - loss: 1.3375 - accuracy: 0.5214 - val_loss: 1.4628 - val_accuracy: 0.4887\n",
      "Epoch 11/25\n",
      "425/425 [==============================] - 5s 12ms/step - loss: 1.3131 - accuracy: 0.5309 - val_loss: 1.4376 - val_accuracy: 0.4927\n",
      "Epoch 12/25\n",
      "425/425 [==============================] - 5s 12ms/step - loss: 1.2874 - accuracy: 0.5410 - val_loss: 1.4950 - val_accuracy: 0.4807\n",
      "Epoch 13/25\n",
      "425/425 [==============================] - 5s 12ms/step - loss: 1.2613 - accuracy: 0.5480 - val_loss: 1.4057 - val_accuracy: 0.4963\n",
      "Epoch 14/25\n",
      "425/425 [==============================] - 5s 12ms/step - loss: 1.2363 - accuracy: 0.5608 - val_loss: 1.4219 - val_accuracy: 0.4943\n",
      "Epoch 15/25\n",
      "425/425 [==============================] - 5s 12ms/step - loss: 1.2145 - accuracy: 0.5679 - val_loss: 1.4260 - val_accuracy: 0.4988\n",
      "Epoch 16/25\n",
      "425/425 [==============================] - 5s 12ms/step - loss: 1.1901 - accuracy: 0.5748 - val_loss: 1.4056 - val_accuracy: 0.5085\n",
      "Epoch 17/25\n",
      "425/425 [==============================] - 5s 12ms/step - loss: 1.1634 - accuracy: 0.5858 - val_loss: 1.3931 - val_accuracy: 0.5120\n",
      "Epoch 18/25\n",
      "425/425 [==============================] - 5s 12ms/step - loss: 1.1434 - accuracy: 0.5924 - val_loss: 1.3973 - val_accuracy: 0.5144\n",
      "Epoch 19/25\n",
      "425/425 [==============================] - 5s 12ms/step - loss: 1.1200 - accuracy: 0.5997 - val_loss: 1.4024 - val_accuracy: 0.5045\n",
      "Epoch 20/25\n",
      "425/425 [==============================] - 5s 12ms/step - loss: 1.0975 - accuracy: 0.6095 - val_loss: 1.4497 - val_accuracy: 0.5101\n",
      "Epoch 21/25\n",
      "425/425 [==============================] - 5s 12ms/step - loss: 1.0771 - accuracy: 0.6182 - val_loss: 1.4230 - val_accuracy: 0.5049\n",
      "Epoch 22/25\n",
      "425/425 [==============================] - 5s 12ms/step - loss: 1.0520 - accuracy: 0.6269 - val_loss: 1.4151 - val_accuracy: 0.5147\n",
      "Epoch 23/25\n",
      "425/425 [==============================] - 5s 12ms/step - loss: 1.0266 - accuracy: 0.6348 - val_loss: 1.4302 - val_accuracy: 0.5201\n",
      "Epoch 24/25\n",
      "425/425 [==============================] - 5s 12ms/step - loss: 1.0005 - accuracy: 0.6439 - val_loss: 1.4176 - val_accuracy: 0.5164\n",
      "Epoch 25/25\n",
      "425/425 [==============================] - 5s 12ms/step - loss: 0.9879 - accuracy: 0.6507 - val_loss: 1.4121 - val_accuracy: 0.5241\n",
      "313/313 [==============================] - 1s 3ms/step - loss: 1.3911 - accuracy: 0.5273\n",
      "Model's accuracy: 52.73%\n"
     ]
    }
   ],
   "source": [
    "train_hist = model.fit(x_train,y_train_onehot,batch_size=100,\n",
    "                       epochs=25,verbose=1, validation_split=0.15,\n",
    "                       shuffle=True)\n",
    "                       \n",
    "loss, acc = model.evaluate(x_test,y_test_onehot, verbose=1)\n",
    "print(\"Model's accuracy: {:5.2f}%\".format(100*acc))"
   ]
  },
  {
   "cell_type": "code",
   "execution_count": 16,
   "metadata": {},
   "outputs": [
    {
     "data": {
      "image/png": "[encoded data removed]",
      "text/plain": [
       "<Figure size 1080x360 with 2 Axes>"
      ]
     },
     "metadata": {
      "needs_background": "light"
     },
     "output_type": "display_data"
    }
   ],
   "source": [
    "fig, axs = plt.subplots(1,2,figsize=(15,5))\n",
    "# Show the training accuracy \n",
    "axs[0].plot(train_hist.history['accuracy']) \n",
    "axs[0].plot(train_hist.history['val_accuracy'])\n",
    "axs[0].set_title('model accuracy')\n",
    "axs[0].set_ylabel('accuracy')\n",
    "axs[0].set_xlabel('epoch')\n",
    "axs[0].legend(['train', 'validation'])\n",
    "\n",
    "axs[1].plot(train_hist.history['loss'])\n",
    "axs[1].plot(train_hist.history['val_loss'])\n",
    "axs[1].set_title('model loss')\n",
    "axs[1].set_ylabel('loss')\n",
    "axs[1].set_xlabel('epoch')\n",
    "axs[1].legend(['train', 'validation'])\n",
    "\n",
    "plt.tight_layout()\n",
    "plt.show()"
   ]
  }
 ],
 "metadata": {
  "kernelspec": {
   "display_name": "Python 3.10.5 64-bit",
   "language": "python",
   "name": "python3"
  },
  "language_info": {
   "codemirror_mode": {
    "name": "ipython",
    "version": 3
   },
   "file_extension": ".py",
   "mimetype": "text/x-python",
   "name": "python",
   "nbconvert_exporter": "python",
   "pygments_lexer": "ipython3",
   "version": "3.10.5"
  },
  "vscode": {
   "interpreter": {
    "hash": "f7c184107aed90e61f21a107d83f6d0078a177071f5a0db3f42787e18d37abad"
   }
  }
 },
 "nbformat": 4,
 "nbformat_minor": 2
}
