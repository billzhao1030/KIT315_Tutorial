{
 "cells": [
  {
   "cell_type": "code",
   "execution_count": 1,
   "metadata": {},
   "outputs": [
    {
     "data": {
      "text/html": [
       "<div>\n",
       "<style scoped>\n",
       "    .dataframe tbody tr th:only-of-type {\n",
       "        vertical-align: middle;\n",
       "    }\n",
       "\n",
       "    .dataframe tbody tr th {\n",
       "        vertical-align: top;\n",
       "    }\n",
       "\n",
       "    .dataframe thead th {\n",
       "        text-align: right;\n",
       "    }\n",
       "</style>\n",
       "<table border=\"1\" class=\"dataframe\">\n",
       "  <thead>\n",
       "    <tr style=\"text-align: right;\">\n",
       "      <th></th>\n",
       "      <th>sepal.length</th>\n",
       "      <th>sepal.width</th>\n",
       "      <th>petal.length</th>\n",
       "      <th>petal.width</th>\n",
       "      <th>variety</th>\n",
       "    </tr>\n",
       "  </thead>\n",
       "  <tbody>\n",
       "    <tr>\n",
       "      <th>0</th>\n",
       "      <td>5.1</td>\n",
       "      <td>3.5</td>\n",
       "      <td>1.4</td>\n",
       "      <td>0.2</td>\n",
       "      <td>Setosa</td>\n",
       "    </tr>\n",
       "    <tr>\n",
       "      <th>1</th>\n",
       "      <td>4.9</td>\n",
       "      <td>3.0</td>\n",
       "      <td>1.4</td>\n",
       "      <td>0.2</td>\n",
       "      <td>Setosa</td>\n",
       "    </tr>\n",
       "    <tr>\n",
       "      <th>2</th>\n",
       "      <td>4.7</td>\n",
       "      <td>3.2</td>\n",
       "      <td>1.3</td>\n",
       "      <td>0.2</td>\n",
       "      <td>Setosa</td>\n",
       "    </tr>\n",
       "    <tr>\n",
       "      <th>3</th>\n",
       "      <td>4.6</td>\n",
       "      <td>3.1</td>\n",
       "      <td>1.5</td>\n",
       "      <td>0.2</td>\n",
       "      <td>Setosa</td>\n",
       "    </tr>\n",
       "    <tr>\n",
       "      <th>4</th>\n",
       "      <td>5.0</td>\n",
       "      <td>3.6</td>\n",
       "      <td>1.4</td>\n",
       "      <td>0.2</td>\n",
       "      <td>Setosa</td>\n",
       "    </tr>\n",
       "  </tbody>\n",
       "</table>\n",
       "</div>"
      ],
      "text/plain": [
       "   sepal.length  sepal.width  petal.length  petal.width variety\n",
       "0           5.1          3.5           1.4          0.2  Setosa\n",
       "1           4.9          3.0           1.4          0.2  Setosa\n",
       "2           4.7          3.2           1.3          0.2  Setosa\n",
       "3           4.6          3.1           1.5          0.2  Setosa\n",
       "4           5.0          3.6           1.4          0.2  Setosa"
      ]
     },
     "execution_count": 1,
     "metadata": {},
     "output_type": "execute_result"
    }
   ],
   "source": [
    "import pandas as pd\n",
    "\n",
    "df = pd.read_csv(\"./iris.csv\")\n",
    "df.head() # show head part of dataset"
   ]
  },
  {
   "cell_type": "code",
   "execution_count": 2,
   "metadata": {},
   "outputs": [],
   "source": [
    "data = df.to_numpy()"
   ]
  },
  {
   "cell_type": "code",
   "execution_count": 3,
   "metadata": {},
   "outputs": [
    {
     "name": "stdout",
     "output_type": "stream",
     "text": [
      "(90, 5)\n",
      "(60, 5)\n"
     ]
    }
   ],
   "source": [
    "from sklearn.model_selection import train_test_split\n",
    "\n",
    "train, test = train_test_split(data, test_size=0.4)\n",
    "print(train.shape)\n",
    "print(test.shape)\n"
   ]
  },
  {
   "cell_type": "code",
   "execution_count": 4,
   "metadata": {},
   "outputs": [],
   "source": [
    "# modify the datasets\n",
    "train_x = train[:, :4]\n",
    "train_y = train[:, 4]\n",
    "\n",
    "test_x = test[:, :4]\n",
    "test_y = test[:, 4]"
   ]
  },
  {
   "cell_type": "code",
   "execution_count": 5,
   "metadata": {},
   "outputs": [
    {
     "name": "stdout",
     "output_type": "stream",
     "text": [
      "Completed\n"
     ]
    }
   ],
   "source": [
    "# implement some models\n",
    "# KNN\n",
    "from sklearn.neighbors import KNeighborsClassifier\n",
    "\n",
    "knn = KNeighborsClassifier(n_neighbors=7)\n",
    "\n",
    "knn.fit(train_x, train_y) # training\n",
    "print('Completed')"
   ]
  },
  {
   "cell_type": "code",
   "execution_count": 6,
   "metadata": {},
   "outputs": [],
   "source": [
    "pred = knn.predict(test_x) # store the prediction in pred"
   ]
  },
  {
   "cell_type": "code",
   "execution_count": 7,
   "metadata": {},
   "outputs": [
    {
     "name": "stdout",
     "output_type": "stream",
     "text": [
      "Virginica Versicolor\n",
      "Virginica Versicolor\n"
     ]
    }
   ],
   "source": [
    "for i in range(test.shape[0]):\n",
    "    if pred[i] != test_y[i]:\n",
    "        print(pred[i], test_y[i])"
   ]
  },
  {
   "cell_type": "code",
   "execution_count": 8,
   "metadata": {},
   "outputs": [
    {
     "name": "stdout",
     "output_type": "stream",
     "text": [
      "Accuracy = 0.96667, F1 = 0.96698, Precision = 0.97037\n"
     ]
    }
   ],
   "source": [
    "# evaluate the results\n",
    "from sklearn.metrics import accuracy_score, f1_score, precision_score\n",
    "\n",
    "acc = accuracy_score(y_pred=pred, y_true=test_y)\n",
    "f1 = f1_score(y_pred=pred, y_true=test_y, average='weighted') # average for multi-class\n",
    "pres = precision_score(y_pred=pred, y_true=test_y, average='weighted')\n",
    "\n",
    "print(\"Accuracy = %.5f, F1 = %.5f, Precision = %.5f\" % (acc, f1, pres))"
   ]
  },
  {
   "cell_type": "code",
   "execution_count": 9,
   "metadata": {},
   "outputs": [],
   "source": [
    "from sklearn.svm import SVC\n",
    "from sklearn.tree import DecisionTreeClassifier"
   ]
  },
  {
   "cell_type": "code",
   "execution_count": 10,
   "metadata": {},
   "outputs": [
    {
     "name": "stdout",
     "output_type": "stream",
     "text": [
      "Accuracy = 0.95000, F1 = 0.95027, Precision = 0.95129\n"
     ]
    }
   ],
   "source": [
    "from sklearn.ensemble import BaggingClassifier\n",
    "from sklearn.linear_model import LogisticRegression\n",
    "\n",
    "bg = BaggingClassifier(n_estimators=10) # add base_estimator\n",
    "bg.fit(train_x, train_y)\n",
    "\n",
    "pred = bg.predict(test_x)\n",
    "\n",
    "acc = accuracy_score(y_pred=pred, y_true=test_y)\n",
    "f1 = f1_score(y_pred=pred, y_true=test_y, average='weighted') # average for multi-class\n",
    "pres = precision_score(y_pred=pred, y_true=test_y, average='weighted')\n",
    "\n",
    "print(\"Accuracy = %.5f, F1 = %.5f, Precision = %.5f\" % (acc, f1, pres))"
   ]
  },
  {
   "cell_type": "code",
   "execution_count": 11,
   "metadata": {},
   "outputs": [
    {
     "name": "stdout",
     "output_type": "stream",
     "text": [
      "Accuracy = 0.90000, F1 = 0.89643, Precision = 0.90556\n"
     ]
    }
   ],
   "source": [
    "from sklearn.ensemble import AdaBoostClassifier\n",
    "\n",
    "ab = AdaBoostClassifier(n_estimators=20, learning_rate=0.2)\n",
    "ab.fit(train_x, train_y)\n",
    "\n",
    "pred = ab.predict(test_x)\n",
    "\n",
    "acc = accuracy_score(y_pred=pred, y_true=test_y)\n",
    "f1 = f1_score(y_pred=pred, y_true=test_y, average='weighted') # average for multi-class\n",
    "pres = precision_score(y_pred=pred, y_true=test_y, average='weighted')\n",
    "\n",
    "print(\"Accuracy = %.5f, F1 = %.5f, Precision = %.5f\" % (acc, f1, pres))"
   ]
  },
  {
   "cell_type": "code",
   "execution_count": 12,
   "metadata": {},
   "outputs": [
    {
     "name": "stdout",
     "output_type": "stream",
     "text": [
      "Accuracy = 0.95000, F1 = 0.95027, Precision = 0.95129\n"
     ]
    }
   ],
   "source": [
    "from sklearn.ensemble import StackingClassifier\n",
    "\n",
    "estimators = [\n",
    "    ('knn', KNeighborsClassifier(n_neighbors=3)),\n",
    "    ('dt', DecisionTreeClassifier()),\n",
    "    ('svm', SVC())\n",
    "]\n",
    "st = StackingClassifier(estimators)\n",
    "st.fit(train_x, train_y)\n",
    "\n",
    "pred = st.predict(test_x)\n",
    "\n",
    "acc = accuracy_score(y_pred=pred, y_true=test_y)\n",
    "f1 = f1_score(y_pred=pred, y_true=test_y, average='weighted') # average for multi-class\n",
    "pres = precision_score(y_pred=pred, y_true=test_y, average='weighted')\n",
    "\n",
    "print(\"Accuracy = %.5f, F1 = %.5f, Precision = %.5f\" % (acc, f1, pres))"
   ]
  }
 ],
 "metadata": {
  "kernelspec": {
   "display_name": "Python 3.10.5 64-bit",
   "language": "python",
   "name": "python3"
  },
  "language_info": {
   "codemirror_mode": {
    "name": "ipython",
    "version": 3
   },
   "file_extension": ".py",
   "mimetype": "text/x-python",
   "name": "python",
   "nbconvert_exporter": "python",
   "pygments_lexer": "ipython3",
   "version": "3.10.5"
  },
  "orig_nbformat": 4,
  "vscode": {
   "interpreter": {
    "hash": "f7c184107aed90e61f21a107d83f6d0078a177071f5a0db3f42787e18d37abad"
   }
  }
 },
 "nbformat": 4,
 "nbformat_minor": 2
}
