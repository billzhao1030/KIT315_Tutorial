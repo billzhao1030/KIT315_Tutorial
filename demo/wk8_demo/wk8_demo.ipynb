{
 "cells": [
  {
   "cell_type": "markdown",
   "metadata": {},
   "source": [
    "# KIT315 Week8 Demo\n",
    "Dr Yuchen Wei"
   ]
  },
  {
   "cell_type": "code",
   "execution_count": null,
   "metadata": {
    "executionInfo": {
     "elapsed": 2224,
     "status": "ok",
     "timestamp": 1662424838174,
     "user": {
      "displayName": "Mark Wei",
      "userId": "16167017904589824226"
     },
     "user_tz": -600
    },
    "id": "zxJ3BYAHS1Re"
   },
   "outputs": [],
   "source": [
    "import numpy as np\n",
    "import tensorflow as tf\n",
    "from tensorflow import keras\n",
    "from tensorflow.keras import layers"
   ]
  },
  {
   "cell_type": "code",
   "execution_count": null,
   "metadata": {
    "executionInfo": {
     "elapsed": 506,
     "status": "ok",
     "timestamp": 1662426143243,
     "user": {
      "displayName": "Mark Wei",
      "userId": "16167017904589824226"
     },
     "user_tz": -600
    },
    "id": "Z8n4ZBY6S4qZ"
   },
   "outputs": [],
   "source": [
    "batch_size = 64\n",
    "# Each MNIST image batch is a tensor of shape (batch_size, 28, 28).\n",
    "# Each input sequence will be of size (28, 28) (height is treated like time).\n",
    "input_dim = 28\n",
    "\n",
    "units = 10\n",
    "output_size = 10  # labels are from 0 to 9\n"
   ]
  },
  {
   "cell_type": "code",
   "execution_count": null,
   "metadata": {
    "executionInfo": {
     "elapsed": 333,
     "status": "ok",
     "timestamp": 1662426166832,
     "user": {
      "displayName": "Mark Wei",
      "userId": "16167017904589824226"
     },
     "user_tz": -600
    },
    "id": "x06J00yGTgwF"
   },
   "outputs": [],
   "source": [
    "# build the model\n",
    "model = keras.models.Sequential(\n",
    "    [\n",
    "        # keras.layers.LSTM(units, input_shape=(None, input_dim)),\n",
    "        keras.layers.SimpleRNN(units, input_shape=(None, input_dim)),\n",
    "        keras.layers.BatchNormalization(),\n",
    "        keras.layers.Dense(output_size),\n",
    "    ]\n",
    ")"
   ]
  },
  {
   "cell_type": "code",
   "execution_count": null,
   "metadata": {
    "colab": {
     "base_uri": "https://localhost:8080/"
    },
    "executionInfo": {
     "elapsed": 319,
     "status": "ok",
     "timestamp": 1662425268940,
     "user": {
      "displayName": "Mark Wei",
      "userId": "16167017904589824226"
     },
     "user_tz": -600
    },
    "id": "_XpFmvXlUBvW",
    "outputId": "a6e02c06-488c-4216-ed07-e7d6b8e44f0a"
   },
   "outputs": [],
   "source": [
    "model.summary()"
   ]
  },
  {
   "cell_type": "code",
   "execution_count": null,
   "metadata": {
    "colab": {
     "base_uri": "https://localhost:8080/"
    },
    "executionInfo": {
     "elapsed": 1155,
     "status": "ok",
     "timestamp": 1662275056179,
     "user": {
      "displayName": "Mark Wei",
      "userId": "16167017904589824226"
     },
     "user_tz": -600
    },
    "id": "2idhbkg3TLeX",
    "outputId": "c03f0576-706f-47ce-8d18-0372cf4b3b70"
   },
   "outputs": [],
   "source": [
    "# load the data\n",
    "mnist = keras.datasets.mnist\n",
    "\n",
    "(x_train, y_train), (x_test, y_test) = mnist.load_data()\n",
    "x_train, x_test = x_train / 255.0, x_test / 255.0"
   ]
  },
  {
   "cell_type": "code",
   "execution_count": null,
   "metadata": {},
   "outputs": [],
   "source": [
    "sample, sample_label = x_train[0], y_train[0]\n",
    "print(sample, sample_label)"
   ]
  },
  {
   "cell_type": "code",
   "execution_count": null,
   "metadata": {
    "colab": {
     "base_uri": "https://localhost:8080/"
    },
    "executionInfo": {
     "elapsed": 18765,
     "status": "ok",
     "timestamp": 1662275349156,
     "user": {
      "displayName": "Mark Wei",
      "userId": "16167017904589824226"
     },
     "user_tz": -600
    },
    "id": "Z-JoSJKITMZx",
    "outputId": "a3299f65-8dc4-4bc1-8e6c-ae6ac6f2bf39"
   },
   "outputs": [],
   "source": [
    "# set up the model\n",
    "\n",
    "model.compile(\n",
    "    loss=keras.losses.SparseCategoricalCrossentropy(from_logits=True),\n",
    "    optimizer=\"sgd\",\n",
    "    metrics=[\"accuracy\"],\n",
    ")"
   ]
  },
  {
   "cell_type": "code",
   "execution_count": null,
   "metadata": {},
   "outputs": [],
   "source": [
    "# train the model\n",
    "model.fit(\n",
    "    x_train, y_train, validation_data=(x_test, y_test), batch_size=batch_size, epochs=2\n",
    ")"
   ]
  },
  {
   "cell_type": "code",
   "execution_count": null,
   "metadata": {
    "colab": {
     "base_uri": "https://localhost:8080/"
    },
    "executionInfo": {
     "elapsed": 1132,
     "status": "ok",
     "timestamp": 1662275353674,
     "user": {
      "displayName": "Mark Wei",
      "userId": "16167017904589824226"
     },
     "user_tz": -600
    },
    "id": "zfGdpRsAUP-6",
    "outputId": "74b1a033-e88f-4ef3-96b5-73fd8d5c6f3f"
   },
   "outputs": [],
   "source": [
    "test_results = model.evaluate(x_test, y_test, verbose=False)\n",
    "print(f'Test results - Loss: {test_results[0]} - Accuracy: {100*test_results[1]}%')"
   ]
  }
 ],
 "metadata": {
  "colab": {
   "authorship_tag": "ABX9TyNL28LJOwe9mVs6wFuL/DXH",
   "collapsed_sections": [],
   "provenance": []
  },
  "kernelspec": {
   "display_name": "Python 3",
   "language": "python",
   "name": "python3"
  },
  "language_info": {
   "codemirror_mode": {
    "name": "ipython",
    "version": 3
   },
   "file_extension": ".py",
   "mimetype": "text/x-python",
   "name": "python",
   "nbconvert_exporter": "python",
   "pygments_lexer": "ipython3",
   "version": "3.8.5"
  }
 },
 "nbformat": 4,
 "nbformat_minor": 1
}
