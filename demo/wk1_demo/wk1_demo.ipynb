{
 "cells": [
  {
   "cell_type": "markdown",
   "metadata": {},
   "source": [
    "# Week 1 demonstration\n",
    "Yuchen"
   ]
  },
  {
   "cell_type": "code",
   "execution_count": 1,
   "metadata": {},
   "outputs": [
    {
     "data": {
      "text/plain": [
       "'1.23.1'"
      ]
     },
     "execution_count": 1,
     "metadata": {},
     "output_type": "execute_result"
    }
   ],
   "source": [
    "import numpy as np\n",
    "np.__version__"
   ]
  },
  {
   "cell_type": "code",
   "execution_count": 2,
   "metadata": {},
   "outputs": [
    {
     "name": "stdout",
     "output_type": "stream",
     "text": [
      "a=5 b=6 c=text d=5.400000\n"
     ]
    }
   ],
   "source": [
    "a = 5\n",
    "b = 6\n",
    "c = \"text\"\n",
    "d = 5.4\n",
    "print((\"a=%d b=%d c=%s d=%f\")%(a,b,c,d))"
   ]
  },
  {
   "cell_type": "code",
   "execution_count": 3,
   "metadata": {},
   "outputs": [
    {
     "name": "stdout",
     "output_type": "stream",
     "text": [
      "[1.4, 0.6, 0.4, 2.3]\n"
     ]
    }
   ],
   "source": [
    "prices = [1.4, 0.6, 0.4, 2.3]\n",
    "print(prices)"
   ]
  },
  {
   "cell_type": "code",
   "execution_count": 6,
   "metadata": {},
   "outputs": [
    {
     "name": "stdout",
     "output_type": "stream",
     "text": [
      "[[0.4, 0.5, 0.6], [0.7, 0.8, 0.9], [1.1, 1.2, 1.3]]\n"
     ]
    }
   ],
   "source": [
    "matrix = [[0.4, 0.5, 0.6],\n",
    "         [0.7, 0.8, 0.9],\n",
    "         [1.1, 1.2, 1.3]]\n",
    "print(matrix)"
   ]
  },
  {
   "cell_type": "code",
   "execution_count": 7,
   "metadata": {},
   "outputs": [
    {
     "name": "stdout",
     "output_type": "stream",
     "text": [
      "{'name': 'Yuchen', 'age': 30}\n"
     ]
    }
   ],
   "source": [
    "mydict = {}\n",
    "mydict[\"name\"] = \"Yuchen\"\n",
    "mydict[\"age\"] = 30\n",
    "\n",
    "print(mydict)"
   ]
  },
  {
   "cell_type": "code",
   "execution_count": 8,
   "metadata": {},
   "outputs": [
    {
     "name": "stdout",
     "output_type": "stream",
     "text": [
      "{'name': 'Mark', 'age': 20}\n"
     ]
    }
   ],
   "source": [
    "mydict = {\"name\":\"Mark\", \"age\":20}\n",
    "print(mydict)"
   ]
  },
  {
   "cell_type": "code",
   "execution_count": 9,
   "metadata": {},
   "outputs": [
    {
     "name": "stdout",
     "output_type": "stream",
     "text": [
      "name\n",
      "Mark\n",
      "age\n",
      "20\n"
     ]
    }
   ],
   "source": [
    "for i in mydict:\n",
    "    print(i)\n",
    "    print(mydict[i])"
   ]
  },
  {
   "cell_type": "code",
   "execution_count": 10,
   "metadata": {},
   "outputs": [
    {
     "name": "stdout",
     "output_type": "stream",
     "text": [
      "[[0.4 0.5 0.6]\n",
      " [0.7 0.8 0.9]\n",
      " [1.1 1.2 1.3]]\n"
     ]
    }
   ],
   "source": [
    "npmatrix = np.array(matrix)\n",
    "print(npmatrix)"
   ]
  },
  {
   "cell_type": "code",
   "execution_count": 11,
   "metadata": {},
   "outputs": [
    {
     "name": "stdout",
     "output_type": "stream",
     "text": [
      "1.3 0.4\n"
     ]
    }
   ],
   "source": [
    "max = np.max(npmatrix)\n",
    "min = np.min(npmatrix)\n",
    "print(max,min)"
   ]
  },
  {
   "cell_type": "code",
   "execution_count": 12,
   "metadata": {},
   "outputs": [
    {
     "name": "stdout",
     "output_type": "stream",
     "text": [
      "Min = 0.40 Max = 1.30\n"
     ]
    }
   ],
   "source": [
    "print((\"Min = %.2f Max = %.2f\")%(min, max))"
   ]
  },
  {
   "cell_type": "code",
   "execution_count": 13,
   "metadata": {},
   "outputs": [
    {
     "name": "stdout",
     "output_type": "stream",
     "text": [
      "[1.5 2.4 3.6]\n"
     ]
    }
   ],
   "source": [
    "rowsum = np.sum(npmatrix, axis=1)\n",
    "print(rowsum)"
   ]
  },
  {
   "cell_type": "code",
   "execution_count": 15,
   "metadata": {},
   "outputs": [
    {
     "name": "stdout",
     "output_type": "stream",
     "text": [
      "[2.2 2.5 2.8]\n"
     ]
    }
   ],
   "source": [
    "colsum = np.sum(npmatrix, axis=0)\n",
    "print(colsum)"
   ]
  },
  {
   "cell_type": "code",
   "execution_count": null,
   "metadata": {},
   "outputs": [],
   "source": []
  }
 ],
 "metadata": {
  "kernelspec": {
   "display_name": "Python 3.10.5 64-bit",
   "language": "python",
   "name": "python3"
  },
  "language_info": {
   "codemirror_mode": {
    "name": "ipython",
    "version": 3
   },
   "file_extension": ".py",
   "mimetype": "text/x-python",
   "name": "python",
   "nbconvert_exporter": "python",
   "pygments_lexer": "ipython3",
   "version": "3.10.5"
  },
  "vscode": {
   "interpreter": {
    "hash": "f7c184107aed90e61f21a107d83f6d0078a177071f5a0db3f42787e18d37abad"
   }
  }
 },
 "nbformat": 4,
 "nbformat_minor": 4
}
