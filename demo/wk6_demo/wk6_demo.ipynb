{
  "cells": [
    {
      "cell_type": "code",
      "execution_count": 1,
      "metadata": {
        "id": "hW_f7FbpcmXZ"
      },
      "outputs": [],
      "source": [
        "import numpy as np\n",
        "from tensorflow import keras"
      ]
    },
    {
      "cell_type": "code",
      "execution_count": 2,
      "metadata": {
        "colab": {
          "base_uri": "https://localhost:8080/"
        },
        "id": "UplaTiekc9Tg",
        "outputId": "63ac9486-51de-46a3-84a3-cca902c9032f"
      },
      "outputs": [
        {
          "name": "stdout",
          "output_type": "stream",
          "text": [
            "Downloading data from https://www.cs.toronto.edu/~kriz/cifar-10-python.tar.gz\n",
            "170500096/170498071 [==============================] - 3s 0us/step\n",
            "170508288/170498071 [==============================] - 4s 0us/step\n"
          ]
        }
      ],
      "source": [
        "(x_train, y_train), (x_test, y_test) = keras.datasets.cifar10.load_data()"
      ]
    },
    {
      "cell_type": "code",
      "execution_count": 3,
      "metadata": {
        "colab": {
          "base_uri": "https://localhost:8080/"
        },
        "id": "NIjoxZXWc-ds",
        "outputId": "a658c5fb-e477-45e3-f8f3-025a115bd398"
      },
      "outputs": [
        {
          "name": "stdout",
          "output_type": "stream",
          "text": [
            "(50000, 32, 32, 3)\n",
            "(50000, 1)\n",
            "(10000, 32, 32, 3)\n",
            "(10000, 1)\n",
            "[0 1 2 3 4 5 6 7 8 9]\n"
          ]
        }
      ],
      "source": [
        "print(x_train.shape)\n",
        "print(y_train.shape)\n",
        "print(x_test.shape)\n",
        "print(y_test.shape)\n",
        "print(np.unique(y_test))"
      ]
    },
    {
      "cell_type": "code",
      "execution_count": 4,
      "metadata": {
        "id": "7rT0bHeJdJCc"
      },
      "outputs": [],
      "source": [
        "import matplotlib.pyplot as plt\n",
        "import tensorflow as tf\n",
        "from tensorflow.keras import layers, models, utils\n",
        "from tensorflow.keras.models import Sequential"
      ]
    },
    {
      "cell_type": "code",
      "execution_count": 5,
      "metadata": {
        "colab": {
          "base_uri": "https://localhost:8080/"
        },
        "id": "Qxfauf6vds_W",
        "outputId": "d04c4504-2aad-44c1-cccc-a96b49470879"
      },
      "outputs": [
        {
          "name": "stdout",
          "output_type": "stream",
          "text": [
            "[0 1 2 3 4 5 6 7 8 9]\n"
          ]
        }
      ],
      "source": [
        "from sklearn.preprocessing import OneHotEncoder\n",
        "\n",
        "enc = OneHotEncoder(handle_unknown = 'ignore')\n",
        "enc.fit(y_train)\n",
        "\n",
        "# categories \n",
        "categories = enc.categories_[0]\n",
        "print(categories)\n",
        "# convert to onehot vector\n",
        "y_train_onehot = enc.transform(y_train).toarray()\n",
        "y_test_onehot  = enc.transform(y_test).toarray()"
      ]
    },
    {
      "cell_type": "code",
      "execution_count": 35,
      "metadata": {
        "id": "ehkCy0P_d-WD"
      },
      "outputs": [],
      "source": [
        "model = Sequential(\n",
        "    [\n",
        "        layers.Conv2D(6, (5,5), padding='same', input_shape=(32,32,3), activation='sigmoid'),\n",
        "        layers.AveragePooling2D(pool_size=(2,2), strides=(2,2)),\n",
        "        layers.Conv2D(16, (5,5), padding='valid', input_shape=(32,32,3), activation='sigmoid'),\n",
        "        layers.AveragePooling2D(pool_size=(2,2), strides=(2,2)),\n",
        "        layers.Flatten(),\n",
        "        layers.Dense(400, activation='sigmoid'),\n",
        "        layers.Dropout(0.2),\n",
        "        layers.Dense(120, activation='sigmoid'),\n",
        "        layers.Dropout(0.2),\n",
        "        layers.Dense(84, activation='sigmoid'),\n",
        "        layers.Dropout(0.2),\n",
        "        layers.Dense(10, activation='softmax'),\n",
        "    ]\n",
        ")\n",
        "# 'relu'"
      ]
    },
    {
      "cell_type": "code",
      "execution_count": 36,
      "metadata": {
        "id": "aMh7ASt9gH9s"
      },
      "outputs": [],
      "source": [
        "from tensorflow.keras import optimizers\n",
        "\n",
        "opt = optimizers.Adam(learning_rate=0.001)\n",
        "model.compile(loss='categorical_crossentropy', optimizer=opt, metrics=['accuracy'])"
      ]
    },
    {
      "cell_type": "code",
      "execution_count": 37,
      "metadata": {
        "colab": {
          "base_uri": "https://localhost:8080/"
        },
        "id": "n1-u31TWgkU-",
        "outputId": "60032be9-0b94-40b8-8ef5-c637c9014d53"
      },
      "outputs": [
        {
          "name": "stdout",
          "output_type": "stream",
          "text": [
            "Model: \"sequential_6\"\n",
            "_________________________________________________________________\n",
            " Layer (type)                Output Shape              Param #   \n",
            "=================================================================\n",
            " conv2d_12 (Conv2D)          (None, 32, 32, 6)         456       \n",
            "                                                                 \n",
            " average_pooling2d_12 (Avera  (None, 16, 16, 6)        0         \n",
            " gePooling2D)                                                    \n",
            "                                                                 \n",
            " conv2d_13 (Conv2D)          (None, 12, 12, 16)        2416      \n",
            "                                                                 \n",
            " average_pooling2d_13 (Avera  (None, 6, 6, 16)         0         \n",
            " gePooling2D)                                                    \n",
            "                                                                 \n",
            " flatten_6 (Flatten)         (None, 576)               0         \n",
            "                                                                 \n",
            " dense_24 (Dense)            (None, 400)               230800    \n",
            "                                                                 \n",
            " dropout_9 (Dropout)         (None, 400)               0         \n",
            "                                                                 \n",
            " dense_25 (Dense)            (None, 120)               48120     \n",
            "                                                                 \n",
            " dropout_10 (Dropout)        (None, 120)               0         \n",
            "                                                                 \n",
            " dense_26 (Dense)            (None, 84)                10164     \n",
            "                                                                 \n",
            " dropout_11 (Dropout)        (None, 84)                0         \n",
            "                                                                 \n",
            " dense_27 (Dense)            (None, 10)                850       \n",
            "                                                                 \n",
            "=================================================================\n",
            "Total params: 292,806\n",
            "Trainable params: 292,806\n",
            "Non-trainable params: 0\n",
            "_________________________________________________________________\n"
          ]
        }
      ],
      "source": [
        "model.summary()"
      ]
    },
    {
      "cell_type": "code",
      "execution_count": 38,
      "metadata": {
        "colab": {
          "base_uri": "https://localhost:8080/"
        },
        "id": "jW9UnzM4hAkW",
        "outputId": "e3254c29-5aed-4baf-a789-2b78a79a13c3"
      },
      "outputs": [
        {
          "name": "stdout",
          "output_type": "stream",
          "text": [
            "Epoch 1/30\n",
            "665/665 [==============================] - 4s 5ms/step - loss: 2.0343 - accuracy: 0.2273 - val_loss: 1.7811 - val_accuracy: 0.3428\n",
            "Epoch 2/30\n",
            "665/665 [==============================] - 3s 4ms/step - loss: 1.7547 - accuracy: 0.3506 - val_loss: 1.6437 - val_accuracy: 0.3955\n",
            "Epoch 3/30\n",
            "665/665 [==============================] - 3s 5ms/step - loss: 1.6439 - accuracy: 0.3954 - val_loss: 1.6496 - val_accuracy: 0.4044\n",
            "Epoch 4/30\n",
            "665/665 [==============================] - 3s 5ms/step - loss: 1.5801 - accuracy: 0.4244 - val_loss: 1.5464 - val_accuracy: 0.4369\n",
            "Epoch 5/30\n",
            "665/665 [==============================] - 3s 4ms/step - loss: 1.5299 - accuracy: 0.4424 - val_loss: 1.4678 - val_accuracy: 0.4560\n",
            "Epoch 6/30\n",
            "665/665 [==============================] - 3s 4ms/step - loss: 1.4803 - accuracy: 0.4620 - val_loss: 1.4603 - val_accuracy: 0.4652\n",
            "Epoch 7/30\n",
            "665/665 [==============================] - 3s 4ms/step - loss: 1.4509 - accuracy: 0.4728 - val_loss: 1.4038 - val_accuracy: 0.4883\n",
            "Epoch 8/30\n",
            "665/665 [==============================] - 3s 4ms/step - loss: 1.4167 - accuracy: 0.4814 - val_loss: 1.4068 - val_accuracy: 0.4823\n",
            "Epoch 9/30\n",
            "665/665 [==============================] - 3s 4ms/step - loss: 1.3846 - accuracy: 0.4987 - val_loss: 1.3610 - val_accuracy: 0.4979\n",
            "Epoch 10/30\n",
            "665/665 [==============================] - 3s 4ms/step - loss: 1.3544 - accuracy: 0.5084 - val_loss: 1.3116 - val_accuracy: 0.5160\n",
            "Epoch 11/30\n",
            "665/665 [==============================] - 3s 4ms/step - loss: 1.3256 - accuracy: 0.5179 - val_loss: 1.2895 - val_accuracy: 0.5272\n",
            "Epoch 12/30\n",
            "665/665 [==============================] - 3s 4ms/step - loss: 1.2991 - accuracy: 0.5321 - val_loss: 1.2824 - val_accuracy: 0.5363\n",
            "Epoch 13/30\n",
            "665/665 [==============================] - 3s 4ms/step - loss: 1.2707 - accuracy: 0.5392 - val_loss: 1.2583 - val_accuracy: 0.5392\n",
            "Epoch 14/30\n",
            "665/665 [==============================] - 3s 4ms/step - loss: 1.2480 - accuracy: 0.5522 - val_loss: 1.2462 - val_accuracy: 0.5459\n",
            "Epoch 15/30\n",
            "665/665 [==============================] - 3s 4ms/step - loss: 1.2230 - accuracy: 0.5606 - val_loss: 1.2381 - val_accuracy: 0.5531\n",
            "Epoch 16/30\n",
            "665/665 [==============================] - 3s 4ms/step - loss: 1.1973 - accuracy: 0.5684 - val_loss: 1.2427 - val_accuracy: 0.5513\n",
            "Epoch 17/30\n",
            "665/665 [==============================] - 3s 5ms/step - loss: 1.1749 - accuracy: 0.5775 - val_loss: 1.2191 - val_accuracy: 0.5580\n",
            "Epoch 18/30\n",
            "665/665 [==============================] - 3s 5ms/step - loss: 1.1480 - accuracy: 0.5867 - val_loss: 1.1986 - val_accuracy: 0.5709\n",
            "Epoch 19/30\n",
            "665/665 [==============================] - 3s 4ms/step - loss: 1.1300 - accuracy: 0.5944 - val_loss: 1.1979 - val_accuracy: 0.5661\n",
            "Epoch 20/30\n",
            "665/665 [==============================] - 3s 5ms/step - loss: 1.1030 - accuracy: 0.6022 - val_loss: 1.1676 - val_accuracy: 0.5775\n",
            "Epoch 21/30\n",
            "665/665 [==============================] - 3s 4ms/step - loss: 1.0876 - accuracy: 0.6077 - val_loss: 1.1463 - val_accuracy: 0.5879\n",
            "Epoch 22/30\n",
            "665/665 [==============================] - 3s 5ms/step - loss: 1.0652 - accuracy: 0.6161 - val_loss: 1.1422 - val_accuracy: 0.5935\n",
            "Epoch 23/30\n",
            "665/665 [==============================] - 3s 5ms/step - loss: 1.0498 - accuracy: 0.6247 - val_loss: 1.1239 - val_accuracy: 0.5961\n",
            "Epoch 24/30\n",
            "665/665 [==============================] - 3s 4ms/step - loss: 1.0211 - accuracy: 0.6325 - val_loss: 1.1211 - val_accuracy: 0.5977\n",
            "Epoch 25/30\n",
            "665/665 [==============================] - 3s 4ms/step - loss: 1.0078 - accuracy: 0.6391 - val_loss: 1.1322 - val_accuracy: 0.6012\n",
            "Epoch 26/30\n",
            "665/665 [==============================] - 3s 4ms/step - loss: 0.9828 - accuracy: 0.6472 - val_loss: 1.1093 - val_accuracy: 0.6077\n",
            "Epoch 27/30\n",
            "665/665 [==============================] - 3s 4ms/step - loss: 0.9599 - accuracy: 0.6566 - val_loss: 1.1186 - val_accuracy: 0.6069\n",
            "Epoch 28/30\n",
            "665/665 [==============================] - 3s 4ms/step - loss: 0.9456 - accuracy: 0.6614 - val_loss: 1.1210 - val_accuracy: 0.6083\n",
            "Epoch 29/30\n",
            "665/665 [==============================] - 3s 4ms/step - loss: 0.9307 - accuracy: 0.6662 - val_loss: 1.1138 - val_accuracy: 0.6075\n",
            "Epoch 30/30\n",
            "665/665 [==============================] - 3s 4ms/step - loss: 0.9074 - accuracy: 0.6748 - val_loss: 1.1113 - val_accuracy: 0.6093\n"
          ]
        }
      ],
      "source": [
        "callback = tf.keras.callbacks.EarlyStopping(monitor='accuracy', patience=3)\n",
        "train_hist = model.fit(x_train,y_train_onehot,batch_size=64,\n",
        "                       epochs=30,verbose=1, validation_split=0.15, callbacks=[callback],\n",
        "                       shuffle=True)"
      ]
    },
    {
      "cell_type": "code",
      "execution_count": 39,
      "metadata": {
        "colab": {
          "base_uri": "https://localhost:8080/",
          "height": 369
        },
        "id": "PONWE_25htM_",
        "outputId": "d0396223-865e-4aab-ae27-a7cbe388fd85"
      },
      "outputs": [
        {
          "data": {
            "image/png": "[encoded data removed]",
            "text/plain": [
              "<Figure size 1080x360 with 2 Axes>"
            ]
          },
          "metadata": {
            "needs_background": "light"
          },
          "output_type": "display_data"
        }
      ],
      "source": [
        "fig, axs = plt.subplots(1,2,figsize=(15,5))\n",
        "# Show the training accuracy \n",
        "axs[0].plot(train_hist.history['accuracy'])   # 'acc' in sklearn 0.21 / 'accuracy' in sklearn 0.24 \n",
        "axs[0].plot(train_hist.history['val_accuracy']) # val_acc / val_accuracy\n",
        "axs[0].set_title('model accuracy')\n",
        "axs[0].set_ylabel('accuracy')\n",
        "axs[0].set_xlabel('epoch')\n",
        "axs[0].legend(['train', 'validation'])\n",
        "\n",
        "# Show the training loss\n",
        "axs[1].plot(train_hist.history['loss'])\n",
        "axs[1].plot(train_hist.history['val_loss'])\n",
        "axs[1].set_title('model loss')\n",
        "axs[1].set_ylabel('loss')\n",
        "axs[1].set_xlabel('epoch')\n",
        "axs[1].legend(['train', 'validation'])\n",
        "\n",
        "plt.tight_layout()\n",
        "plt.show()"
      ]
    }
  ],
  "metadata": {
    "accelerator": "GPU",
    "colab": {
      "collapsed_sections": [],
      "name": "wk6_demo.ipynb",
      "provenance": []
    },
    "gpuClass": "standard",
    "kernelspec": {
      "display_name": "Python 3.10.5 64-bit",
      "language": "python",
      "name": "python3"
    },
    "language_info": {
      "name": "python",
      "version": "3.10.5"
    },
    "vscode": {
      "interpreter": {
        "hash": "f7c184107aed90e61f21a107d83f6d0078a177071f5a0db3f42787e18d37abad"
      }
    }
  },
  "nbformat": 4,
  "nbformat_minor": 0
}
