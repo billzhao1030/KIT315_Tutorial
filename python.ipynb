{
 "cells": [
  {
   "cell_type": "markdown",
   "metadata": {
    "pycharm": {
     "name": "#%% md\n"
    }
   },
   "source": [
    "# Basic Python Tutorial\n",
    "(Dr Yuchen Wei)"
   ]
  },
  {
   "cell_type": "markdown",
   "metadata": {
    "pycharm": {
     "name": "#%% md\n"
    }
   },
   "source": [
    "#### At the end of this tutorial you will be able to:\n",
    "- Use python for basic programming\n",
    "- Load data and store it as matrices\n",
    "- Visualise data\n",
    "\n",
    "This tutorial will provide fundametals of Python, for future and complete reference please use the official tutorial from Python website  https://docs.python.org/3/tutorial/. There are a lot of online resources to learn Python too, you are encouraged to discover the best one for youself."
   ]
  },
  {
   "cell_type": "markdown",
   "metadata": {
    "pycharm": {
     "name": "#%% md\n"
    }
   },
   "source": [
    "## I. Evironment Setup"
   ]
  },
  {
   "cell_type": "markdown",
   "metadata": {
    "pycharm": {
     "name": "#%% md\n"
    }
   },
   "source": [
    "To complete this tutorial with Python you can use the lab computers or install the following packages/libraries in your personal computer.\n",
    "\n",
    "- Python 3.7\n",
    "\n",
    "- Numpy \n",
    "\n",
    "- Matplotlib\n"
   ]
  },
  {
   "cell_type": "markdown",
   "metadata": {
    "pycharm": {
     "name": "#%% md\n"
    }
   },
   "source": [
    "## II. Variables and Operators"
   ]
  },
  {
   "cell_type": "markdown",
   "metadata": {
    "pycharm": {
     "name": "#%% md\n"
    }
   },
   "source": [
    "A variable can be seen as a \"holder\" of values, you can change the value of the variable. \n",
    "\n",
    "We can apply operators to variables to perform computation on the values that they are holding.\n",
    "\n",
    "Please check the code below and change different values for *a* and _b_ and try different operators.\n",
    "\n",
    "\n",
    "Different operators such as \n",
    "- +: plus\n",
    "- -: minus\n",
    "- \\*: multiplication\n",
    "- /: division\n",
    "- \\>: bigger than\n",
    "- <: less than\n",
    "- ==: equal\n",
    "- !=: not equal\n",
    "- %: remainder of dividing"
   ]
  },
  {
   "cell_type": "code",
   "execution_count": 1,
   "metadata": {
    "pycharm": {
     "name": "#%%\n"
    }
   },
   "outputs": [
    {
     "name": "stdout",
     "output_type": "stream",
     "text": [
      "1.000000+2.000000 = 3.000000\n"
     ]
    }
   ],
   "source": [
    "a = 1.0 # variable a <-- This is a comment\n",
    "b = 2.0 # variable b\n",
    "c = a + b\n",
    "print(\"%f+%f = %f\"%(a,b,c))"
   ]
  },
  {
   "cell_type": "markdown",
   "metadata": {
    "pycharm": {
     "name": "#%% md\n"
    }
   },
   "source": []
  },
  {
   "cell_type": "markdown",
   "metadata": {
    "pycharm": {
     "name": "#%% md\n"
    }
   },
   "source": [
    "## III. Data types"
   ]
  },
  {
   "cell_type": "markdown",
   "metadata": {
    "pycharm": {
     "name": "#%% md\n"
    }
   },
   "source": [
    "### III.1 Check data types"
   ]
  },
  {
   "cell_type": "markdown",
   "metadata": {
    "pycharm": {
     "name": "#%% md\n"
    }
   },
   "source": [
    "In Python a variable can be assigned a value of any types. You don't need to declare the variable type, just assign. Run the code below and see the results."
   ]
  },
  {
   "cell_type": "code",
   "execution_count": 2,
   "metadata": {
    "pycharm": {
     "name": "#%%\n"
    }
   },
   "outputs": [
    {
     "name": "stdout",
     "output_type": "stream",
     "text": [
      "<class 'int'>\n",
      "<class 'float'>\n",
      "<class 'str'>\n",
      "<class 'bool'>\n"
     ]
    }
   ],
   "source": [
    "a = 1\n",
    "print(type(a))\n",
    "a = 1.0\n",
    "print(type(a))\n",
    "a = \"Hello\"\n",
    "print(type(a))\n",
    "a = False\n",
    "print(type(a))"
   ]
  },
  {
   "cell_type": "markdown",
   "metadata": {
    "pycharm": {
     "name": "#%% md\n"
    }
   },
   "source": [
    "### III.2 List"
   ]
  },
  {
   "cell_type": "markdown",
   "metadata": {
    "pycharm": {
     "name": "#%% md\n"
    }
   },
   "source": [
    "List is a common data structure in Python where you can store a collection of values, objects, or even other data structure."
   ]
  },
  {
   "cell_type": "code",
   "execution_count": 3,
   "metadata": {
    "pycharm": {
     "name": "#%%\n"
    }
   },
   "outputs": [
    {
     "name": "stdout",
     "output_type": "stream",
     "text": [
      "[1, 2, 4, 4, 5]\n"
     ]
    }
   ],
   "source": [
    "mylist = [1,2,4,4,5] # List of integers\n",
    "print(mylist)"
   ]
  },
  {
   "cell_type": "markdown",
   "metadata": {
    "pycharm": {
     "name": "#%% md\n"
    }
   },
   "source": [
    "##### <span style=\"color:red\">Exercise</span>:\n",
    "Create a list of 4 elements, one string, one integer, one bool, and one float. Print the list"
   ]
  },
  {
   "cell_type": "code",
   "execution_count": 4,
   "metadata": {
    "pycharm": {
     "name": "#%%\n"
    }
   },
   "outputs": [
    {
     "name": "stdout",
     "output_type": "stream",
     "text": [
      "['red', 1, True, 3.14]\n"
     ]
    }
   ],
   "source": [
    "# Complete the exercise above here\n",
    "mylist = ['red', 1, True, 3.14]\n",
    "print(mylist)"
   ]
  },
  {
   "cell_type": "markdown",
   "metadata": {
    "pycharm": {
     "name": "#%% md\n"
    }
   },
   "source": [
    "###### Indexing\n",
    "Accessing elements in list using \"indexing\". An index is the a non-negative integer indicates the position of the element in the list. The first index is 0."
   ]
  },
  {
   "cell_type": "code",
   "execution_count": 5,
   "metadata": {
    "pycharm": {
     "name": "#%%\n"
    }
   },
   "outputs": [
    {
     "name": "stdout",
     "output_type": "stream",
     "text": [
      "blue\n"
     ]
    }
   ],
   "source": [
    "mylist = [\"red\",\"orange\",\"yellow\",\"green\", \"blue\", \"indigo\",\"violet\"]\n",
    "print(mylist[4]) # print the element at index 4"
   ]
  },
  {
   "cell_type": "markdown",
   "metadata": {
    "pycharm": {
     "name": "#%% md\n"
    }
   },
   "source": [
    "We can use negative index, starting from $-1$ for the last element and decrease from right to left."
   ]
  },
  {
   "cell_type": "code",
   "execution_count": 6,
   "metadata": {
    "pycharm": {
     "name": "#%%\n"
    }
   },
   "outputs": [
    {
     "name": "stdout",
     "output_type": "stream",
     "text": [
      "violet\n",
      "indigo\n",
      "blue\n",
      "green\n",
      "yellow\n",
      "orange\n",
      "red\n"
     ]
    }
   ],
   "source": [
    "# Print negative elements backward\n",
    "print(mylist[-1]) # last element\n",
    "print(mylist[-2])\n",
    "print(mylist[-3])\n",
    "print(mylist[-4])\n",
    "print(mylist[-5])\n",
    "print(mylist[-6])\n",
    "print(mylist[-7])"
   ]
  },
  {
   "cell_type": "markdown",
   "metadata": {
    "pycharm": {
     "name": "#%% md\n"
    }
   },
   "source": [
    "###### Slicing\n",
    "Accessing a subset of elements from a list using \"slicing\"."
   ]
  },
  {
   "cell_type": "code",
   "execution_count": 7,
   "metadata": {
    "pycharm": {
     "name": "#%%\n"
    }
   },
   "outputs": [
    {
     "name": "stdout",
     "output_type": "stream",
     "text": [
      "['yellow', 'green', 'blue']\n"
     ]
    }
   ],
   "source": [
    "# Access elements from index 2 to 5 (exlusive)\n",
    "print(mylist[2:5])"
   ]
  },
  {
   "cell_type": "code",
   "execution_count": 8,
   "metadata": {
    "pycharm": {
     "name": "#%%\n"
    }
   },
   "outputs": [
    {
     "name": "stdout",
     "output_type": "stream",
     "text": [
      "['red', 'orange', 'yellow']\n"
     ]
    }
   ],
   "source": [
    "# Access elements from beginning to index 3 (exclusive)\n",
    "print(mylist[:3])"
   ]
  },
  {
   "cell_type": "code",
   "execution_count": 9,
   "metadata": {
    "pycharm": {
     "name": "#%%\n"
    }
   },
   "outputs": [
    {
     "name": "stdout",
     "output_type": "stream",
     "text": [
      "['yellow', 'green', 'blue', 'indigo', 'violet']\n"
     ]
    }
   ],
   "source": [
    "# Access elements from index 2 to the end (inclusive)\n",
    "print(mylist[2:])"
   ]
  },
  {
   "cell_type": "markdown",
   "metadata": {
    "pycharm": {
     "name": "#%% md\n"
    }
   },
   "source": [
    "c\n",
    "Are $mylist[2:-1]$ and $mylist[2:]$ the same?\n",
    "\n",
    "No, the first one does not include the last element"
   ]
  },
  {
   "cell_type": "markdown",
   "metadata": {
    "pycharm": {
     "name": "#%% md\n"
    }
   },
   "source": [
    "### III.3 How strings work?"
   ]
  },
  {
   "cell_type": "markdown",
   "metadata": {
    "pycharm": {
     "name": "#%% md\n"
    }
   },
   "source": [
    "Strings can be seen as a list of characters and we can apply what we can do with lists to strings."
   ]
  },
  {
   "cell_type": "code",
   "execution_count": 10,
   "metadata": {
    "pycharm": {
     "name": "#%%\n"
    }
   },
   "outputs": [
    {
     "name": "stdout",
     "output_type": "stream",
     "text": [
      "Son Tran\n"
     ]
    }
   ],
   "source": [
    "# Append strings\n",
    "firstname = \"Son\"  # you can also use 'Son'\n",
    "lastname  = \"Tran\" # you can also use 'Tran'\n",
    "fullname = firstname + \" \" + lastname\n",
    "print(fullname)\n",
    "# More string operators can be found here: https://www.educba.com/string-operators-in-python/"
   ]
  },
  {
   "cell_type": "markdown",
   "metadata": {
    "pycharm": {
     "name": "#%% md\n"
    }
   },
   "source": [
    "There are also string-specific functions, please find them here https://www.w3schools.com/python/python_ref_string.asp.\n",
    "\n",
    "##### <span style=\"color:red\">Question 1</span>:\n",
    "\n",
    "Find the functions in the reference above to split the following sentence into a list words in lowercase."
   ]
  },
  {
   "cell_type": "code",
   "execution_count": 11,
   "metadata": {
    "pycharm": {
     "name": "#%%\n"
    }
   },
   "outputs": [
    {
     "name": "stdout",
     "output_type": "stream",
     "text": [
      "['this', 'is', 'kit315', 'and', 'we', 'are', 'learning', 'machine', 'learning']\n"
     ]
    }
   ],
   "source": [
    "mystring = \"This is KIT315 and we are learning Machine Learning\"\n",
    "words = []\n",
    "\n",
    "words = mystring.lower().split()\n",
    "\n",
    "print(words)"
   ]
  },
  {
   "cell_type": "markdown",
   "metadata": {
    "pycharm": {
     "name": "#%% md\n"
    }
   },
   "source": [
    "### III.4 More data types and structures"
   ]
  },
  {
   "cell_type": "markdown",
   "metadata": {
    "pycharm": {
     "name": "#%% md\n"
    }
   },
   "source": [
    "For more information about data types and structures, please check the following link. Please leave it for your self-learning and use it for future reference. We will move to the next section.\n",
    "\n",
    "https://www.datacamp.com/community/tutorials/data-structures-python"
   ]
  },
  {
   "cell_type": "markdown",
   "metadata": {
    "pycharm": {
     "name": "#%% md\n"
    }
   },
   "source": [
    "## IV. Condition and Loops"
   ]
  },
  {
   "cell_type": "markdown",
   "metadata": {
    "pycharm": {
     "name": "#%% md\n"
    }
   },
   "source": [
    " Conditions are statements to allow us to control the flow of the program. When a condition is satisfied (True), the statements under it will be executed. In Python, If-Then is the most common condition syntax."
   ]
  },
  {
   "cell_type": "code",
   "execution_count": 12,
   "metadata": {
    "pycharm": {
     "name": "#%%\n"
    }
   },
   "outputs": [
    {
     "name": "stdout",
     "output_type": "stream",
     "text": [
      "a is positive\n"
     ]
    }
   ],
   "source": [
    "a = 5\n",
    "if a==0:\n",
    "    print(\"a is zero\")\n",
    "elif a>0:\n",
    "    print(\"a is positive\")\n",
    "else:\n",
    "    print(\"a is negative\")"
   ]
  },
  {
   "cell_type": "markdown",
   "metadata": {
    "pycharm": {
     "name": "#%% md\n"
    }
   },
   "source": [
    "Loop is a programming structure that repeats a sequence of instructions until a specific condition is met. In Python For and While are used. The following code demonstrates how For loop works."
   ]
  },
  {
   "cell_type": "code",
   "execution_count": 13,
   "metadata": {
    "pycharm": {
     "name": "#%%\n"
    }
   },
   "outputs": [
    {
     "name": "stdout",
     "output_type": "stream",
     "text": [
      "red\n",
      "orange\n",
      "yellow\n",
      "green\n",
      "blue\n",
      "indigo\n",
      "violet\n"
     ]
    }
   ],
   "source": [
    "for color in mylist: # for each value in list, we assign it to color and print out\n",
    "    print(color)"
   ]
  },
  {
   "cell_type": "markdown",
   "metadata": {
    "pycharm": {
     "name": "#%% md\n"
    }
   },
   "source": [
    "If we want iterate a sequence of instructures in a number of times, we can use _range_ to generate a numeric list and apply For loop to it."
   ]
  },
  {
   "cell_type": "code",
   "execution_count": 14,
   "metadata": {
    "pycharm": {
     "name": "#%%\n"
    }
   },
   "outputs": [
    {
     "name": "stdout",
     "output_type": "stream",
     "text": [
      "0\n",
      "red\n",
      "1\n",
      "orange\n",
      "2\n",
      "yellow\n",
      "3\n",
      "green\n",
      "4\n",
      "blue\n",
      "5\n",
      "indigo\n",
      "6\n",
      "violet\n"
     ]
    }
   ],
   "source": [
    "for i in range(len(mylist)): # len: the length of mylist, range(): generate a list ranging from 0 the len(mylist)-1\n",
    "    print(i)\n",
    "    color = mylist[i]\n",
    "    print(color)"
   ]
  },
  {
   "cell_type": "markdown",
   "metadata": {
    "pycharm": {
     "name": "#%% md\n"
    }
   },
   "source": [
    "Let's explore the While loop. The While loop allows the instructions to repeat untile the condition in the _while_ statement is correct."
   ]
  },
  {
   "cell_type": "code",
   "execution_count": 15,
   "metadata": {
    "pycharm": {
     "name": "#%%\n"
    }
   },
   "outputs": [
    {
     "name": "stdout",
     "output_type": "stream",
     "text": [
      "red\n",
      "orange\n",
      "yellow\n",
      "green\n",
      "blue\n",
      "indigo\n",
      "violet\n"
     ]
    }
   ],
   "source": [
    "index = 0\n",
    "while index<len(mylist): # Will repeat the below instructions while the condition is met, \n",
    "                         # i.e. while index is not out of the range of the list\n",
    "    color = mylist[index]\n",
    "    index+=1  # increase index\n",
    "    print(color)"
   ]
  },
  {
   "cell_type": "markdown",
   "metadata": {
    "pycharm": {
     "name": "#%% md\n"
    }
   },
   "source": [
    "## V. Functions"
   ]
  },
  {
   "cell_type": "markdown",
   "metadata": {
    "pycharm": {
     "name": "#%% md\n"
    }
   },
   "source": [
    "Functions are self-contained portion of instructions that we can reuse in different places in our program. In Python, the function is declared with _def_ syntax. The following function is to compute a sigmoid function:\n",
    "\n",
    "$\\large y = \\frac{1}{1+e^-x}$"
   ]
  },
  {
   "cell_type": "code",
   "execution_count": 16,
   "metadata": {
    "pycharm": {
     "name": "#%%\n"
    }
   },
   "outputs": [
    {
     "name": "stdout",
     "output_type": "stream",
     "text": [
      "sigmoid(0.00000)=0.50000\n"
     ]
    }
   ],
   "source": [
    "import math\n",
    "### This is the begining of the function\n",
    "def sigmoid(x): # sigmoid is the name of the function\n",
    "                # x is the parameters\n",
    "    y = 1/(1+math.exp(-x))\n",
    "    return y\n",
    "### This is the end of the function\n",
    "\n",
    "\n",
    "x = 0\n",
    "y = sigmoid(x) ## This is how we call the function\n",
    "\n",
    "print(\"sigmoid(%.5f)=%.5f\"%(x,y)) # .5% means we print 5 digits after the decimal point"
   ]
  },
  {
   "cell_type": "markdown",
   "metadata": {
    "pycharm": {
     "name": "#%% md\n"
    }
   },
   "source": [
    "Let's apply function to a list of values. The following practice will show you how to compute and plot a sigmoid function.\n",
    "\n",
    "#### <span style=\"color:red\">Question 2</span>: \n",
    "\n",
    "1. ylist = sigmoid(xlist)  will give you an error, why?\n",
    "<br>Since the sigmoid function only take a scalar as a parameter, but input is a vector\n",
    "\n",
    "2. Replace the erronous code with ylist = \\[sigmoid(x) for x in xlist\\]"
   ]
  },
  {
   "cell_type": "code",
   "execution_count": 17,
   "metadata": {
    "pycharm": {
     "name": "#%%\n"
    }
   },
   "outputs": [
    {
     "data": {
      "image/png": "[encoded data removed]",
      "text/plain": [
       "<Figure size 432x288 with 1 Axes>"
      ]
     },
     "metadata": {
      "needs_background": "light"
     },
     "output_type": "display_data"
    }
   ],
   "source": [
    "%matplotlib inline\n",
    "import matplotlib.pyplot as plt\n",
    "xlist = [-5,-4.5,-4,-3.5,-3,-2.5,-2,-1.5,-1,-0.5,0,0.5,1,1.5,2,2.5,3,3.5,4,4.5,5]\n",
    "# ylist = sigmoid(xlist) # this will give you an error, use the code below \n",
    "ylist = [sigmoid(x) for x in xlist]\n",
    "\n",
    "plt.plot(xlist,ylist)\n",
    "plt.xlabel(\"x\")\n",
    "plt.ylabel(\"y\")\n",
    "plt.show()\n"
   ]
  },
  {
   "cell_type": "markdown",
   "metadata": {
    "pycharm": {
     "name": "#%% md\n"
    }
   },
   "source": [
    "## VI. Classes"
   ]
  },
  {
   "cell_type": "markdown",
   "metadata": {
    "pycharm": {
     "name": "#%% md\n"
    }
   },
   "source": [
    "A class is a code template to represent an abstract of objects. A class consists of attritbutes and functions. The first function is \"\\_\\_init\\_\\_\" (two underscores). This function will be called when an object is created from the class. There will be a \"_self_\" keyword, which refers to this class. An attribute of the class can be declared as \"self.\\[name of the attribute\\]\".\n",
    "\n",
    "The code below defines a Calculator class. This class has an attribute named \"mode\" indicating whether a calculator is \"basic\" or \"advanced\". In the \"basic\" mode, the calculator can only do \"add\" and \"minus\" while in the \"advanced\" mode it can do \"sigmoid\" and \"logistic\"."
   ]
  },
  {
   "cell_type": "code",
   "execution_count": 18,
   "metadata": {
    "pycharm": {
     "name": "#%%\n"
    }
   },
   "outputs": [],
   "source": [
    "class Calculator():\n",
    "    def __init__(self,mode=\"basic\"):\n",
    "        self.mode = mode # mode is local variable whose availability is within this function\n",
    "                         # self.mode is the class variable (attribute), which is assessible in the whole class\n",
    "    ######### BASIC MODE ##############################################\n",
    "    def add(self,a,b):\n",
    "        if self.mode==\"basic\":\n",
    "            return a+b\n",
    "        elif self.mode==\"advanced\":\n",
    "            print(\"This function does not work in advaced mode\")\n",
    "        else:\n",
    "            print(\"mode %s is not recognised\"%(self.mode))\n",
    "    def minus(self,a,b):\n",
    "        if self.mode==\"basic\":\n",
    "            return a-b\n",
    "        elif self.mode==\"advanced\":\n",
    "            print(\"This function does not work in advaced mode\")\n",
    "        else:\n",
    "            print(\"mode %s is not recognised\"%(self.mode))\n",
    "    ####### ADVANCED MODE #############################################\n",
    "    def sigmoid(self,x):\n",
    "        if self.mode==\"basic\":\n",
    "            print(\"This function does not work in basic mode\")\n",
    "        elif self.mode==\"advanced\":\n",
    "            sigm = 1/(1+math.exp(-x))\n",
    "            return sigm\n",
    "        else:\n",
    "            print(\"mode %s is not recognised\"%(self.mode))\n",
    "            \n",
    "    def logistic(self,x,w,b):\n",
    "        if self.mode==\"basic\":\n",
    "            print(\"This function does not work in basic mode\")\n",
    "        elif self.mode==\"advanced\":\n",
    "            linear = x*w+b \n",
    "            y = self.sigmoid(linear) # we call the sigmoid function of the class\n",
    "            return y\n",
    "        else:\n",
    "            print(\"mode %s is not recognised\"%(self.mode))"
   ]
  },
  {
   "cell_type": "markdown",
   "metadata": {
    "pycharm": {
     "name": "#%% md\n"
    }
   },
   "source": [
    "Using the class Calculator defined above, we can create objects from it. In the code below, we create 2 objects: _cal1_ for \"basic\" mode and _cal2_ for \"advanced\" mode. Please spend a few minutes to play with the code."
   ]
  },
  {
   "cell_type": "code",
   "execution_count": 19,
   "metadata": {
    "pycharm": {
     "name": "#%%\n"
    }
   },
   "outputs": [
    {
     "name": "stdout",
     "output_type": "stream",
     "text": [
      "5+6=11.00000\n",
      "logistic(0.5)=0.99593\n"
     ]
    }
   ],
   "source": [
    "cal1 = Calculator(mode=\"basic\")\n",
    "c = cal1.add(5,6)\n",
    "print(\"5+6=%.5f\"%(c))\n",
    "\n",
    "cal2 = Calculator(mode=\"advanced\")\n",
    "y = cal2.logistic(0.5,3,4) # x = 0.5, w = 3, b = 4\n",
    "print(\"logistic(0.5)=%.5f\"%(y))"
   ]
  },
  {
   "cell_type": "markdown",
   "metadata": {
    "pycharm": {
     "name": "#%% md\n"
    }
   },
   "source": [
    "## VI. Numpy"
   ]
  },
  {
   "cell_type": "markdown",
   "metadata": {
    "pycharm": {
     "name": "#%% md\n"
    }
   },
   "source": [
    "Machine Learning can be easier to implement if we use matrix computations. Numpy will help us to do that. This link can be really helpful for learing Numpy: https://cs231n.github.io/python-numpy-tutorial/. Please save it for your future reference and self-learning. For now we will see how Numpy can help the coding. Let's re-define the sigmoid function, but this time with numpy. "
   ]
  },
  {
   "cell_type": "code",
   "execution_count": 20,
   "metadata": {
    "pycharm": {
     "name": "#%%\n"
    }
   },
   "outputs": [
    {
     "data": {
      "image/png": "[encoded data removed]",
      "text/plain": [
       "<Figure size 432x288 with 1 Axes>"
      ]
     },
     "metadata": {
      "needs_background": "light"
     },
     "output_type": "display_data"
    }
   ],
   "source": [
    "import numpy as np\n",
    "def sigmoid_np(x):\n",
    "    y = 1/(1+np.exp(-x)) # Note the differrence here where we use np.exp instead of math.exp\n",
    "                         # This allow we compute the exp function on all elements of the numpy array/matrix x\n",
    "    return y\n",
    "    \n",
    "xlist = np.arange(-5,5,0.1) # Create \n",
    "ylist = sigmoid_np(xlist) \n",
    "plt.plot(xlist,ylist)\n",
    "plt.xlabel(\"x\")\n",
    "plt.ylabel(\"y\")\n",
    "plt.show()"
   ]
  },
  {
   "cell_type": "markdown",
   "metadata": {
    "pycharm": {
     "name": "#%% md\n"
    }
   },
   "source": [
    "## VII. Data Processing"
   ]
  },
  {
   "cell_type": "markdown",
   "metadata": {
    "pycharm": {
     "name": "#%% md\n"
    }
   },
   "source": [
    "Now, using numpy, we will load the <em>Wine Quality</em> dataset. The dataset consists of the following attributes:\n",
    "\n",
    "1 - fixed acidity: most acids involved with wine or fixed or nonvolatile (do not evaporate readily)\n",
    "\n",
    "2 - volatile acidity: the amount of acetic acid in wine, which at too high of levels can lead to an unpleasant, vinegar taste\n",
    "\n",
    "3 - citric acid: found in small quantities, citric acid can add ‘freshness’ and flavor to wines\n",
    "\n",
    "4 - residual sugar: the amount of sugar remaining after fermentation stops, it’s rare to find wines with less than 1 gram/liter and wines with greater than 45 grams/liter are considered sweet\n",
    "\n",
    "5 - chlorides: the amount of salt in the wine\n",
    "\n",
    "6 - free sulfur dioxide: the free form of SO2 exists in equilibrium between molecular SO2 (as a dissolved gas) and bisulfite ion; it prevents microbial growth and the oxidation of wine\n",
    "\n",
    "7 - total sulfur dioxide: amount of free and bound forms of S02; in low concentrations, SO2 is mostly undetectable in wine, but at free SO2 concentrations over 50 ppm, SO2 becomes evident in the nose and taste of wine\n",
    "\n",
    "8 - density: the density of water is close to that of water depending on the percent alcohol and sugar content\n",
    "\n",
    "9 - pH: describes how acidic or basic a wine is on a scale from 0 (very acidic) to 14 (very basic); most wines are between 3-4 on the pH scale\n",
    "\n",
    "10 - sulphates: a wine additive which can contribute to sulfur dioxide gas (S02) levels, wich acts as an antimicrobial and antioxidant\n",
    "\n",
    "11 - alcohol: the percent alcohol content of the wine\n",
    "\n",
    "Output variable (based on sensory data): 12 - quality (score between 0 and 10)\n",
    "\n",
    "**Exercise** Load the wine data. Move the cursor to the following box and press Enter, or click button Run on the menu."
   ]
  },
  {
   "cell_type": "markdown",
   "metadata": {
    "pycharm": {
     "name": "#%% md\n"
    }
   },
   "source": [
    "### Load data"
   ]
  },
  {
   "cell_type": "code",
   "execution_count": 21,
   "metadata": {
    "pycharm": {
     "name": "#%%\n"
    }
   },
   "outputs": [
    {
     "name": "stdout",
     "output_type": "stream",
     "text": [
      "[[ 7.4    0.7    0.    ...  0.56   9.4    5.   ]\n",
      " [ 7.8    0.88   0.    ...  0.68   9.8    5.   ]\n",
      " [ 7.8    0.76   0.04  ...  0.65   9.8    5.   ]\n",
      " ...\n",
      " [ 6.3    0.51   0.13  ...  0.75  11.     6.   ]\n",
      " [ 5.9    0.645  0.12  ...  0.71  10.2    5.   ]\n",
      " [ 6.     0.31   0.47  ...  0.66  11.     6.   ]]\n"
     ]
    }
   ],
   "source": [
    "data = np.loadtxt(\"datasets/winequality-red.csv\",delimiter=\",\")\n",
    "print(data)"
   ]
  },
  {
   "cell_type": "markdown",
   "metadata": {
    "pycharm": {
     "name": "#%% md\n"
    }
   },
   "source": [
    "**Explaining the data format**\n",
    "After loading the data, what we have is a matrix of number presenting the values of the attributes for different wines. Here, the columns are about the attribute, ranging from 1 (fixed acidity) to 12 (wine quality). The rows are about the wines, each wine has all 12 attributes.\n",
    "<img src=\"figs/winequality_red.png\" alt=\"Drawing\" style=\"width: 500px;\"/>"
   ]
  },
  {
   "cell_type": "markdown",
   "metadata": {
    "pycharm": {
     "name": "#%% md\n"
    }
   },
   "source": [
    "**Access data** The values of attributes for the wines can be accessed though indexing the *data* matrix. Note that the index starts from *0*, thefore the *fixed acidity* of wine 1 is data[0,0].\n",
    "\n",
    "To access all atributes of a wine we can use *data[index_of_the_wine,:]*\n",
    "\n",
    "To access all values of a atribute in all wines we can use *data[:,index_of_wine]*\n",
    "\n",
    "To access a range of values from index *i1* to (but not include) index *i2* we can use *i1:i2*"
   ]
  },
  {
   "cell_type": "markdown",
   "metadata": {
    "pycharm": {
     "name": "#%% md\n"
    }
   },
   "source": [
    "**Exercise** Can you change the indexings (?) of *print(data[?,?])* to get the *free sulfur dioxide* of wine  738. Remove # to run the code"
   ]
  },
  {
   "cell_type": "code",
   "execution_count": 22,
   "metadata": {
    "pycharm": {
     "name": "#%%\n"
    }
   },
   "outputs": [
    {
     "name": "stdout",
     "output_type": "stream",
     "text": [
      "58.0\n"
     ]
    }
   ],
   "source": [
    "print(data[737,6])  #free sulfur dioxide* of wine  738, the result must be  19.0"
   ]
  },
  {
   "cell_type": "markdown",
   "metadata": {
    "pycharm": {
     "name": "#%% md\n"
    }
   },
   "source": [
    "\n",
    "**Exercise** Can you change the indexings (?) of *print(data[?,?])* to get all attributes of wine 240."
   ]
  },
  {
   "cell_type": "code",
   "execution_count": 23,
   "metadata": {
    "pycharm": {
     "name": "#%%\n"
    }
   },
   "outputs": [
    {
     "name": "stdout",
     "output_type": "stream",
     "text": [
      "[ 8.2      1.       0.09     2.3      0.065    7.      37.       0.99685\n",
      "  3.32     0.55     9.       6.     ]\n"
     ]
    }
   ],
   "source": [
    "print(data[239, :])  #all attribute of wine 240,"
   ]
  },
  {
   "cell_type": "markdown",
   "metadata": {
    "pycharm": {
     "name": "#%% md\n"
    }
   },
   "source": [
    "The result must be: [ 8.2      1.       0.09     2.3      0.065    7.      37.       0.99685\n",
    "  3.32     0.55     9.       6.     ]"
   ]
  },
  {
   "cell_type": "markdown",
   "metadata": {
    "pycharm": {
     "name": "#%% md\n"
    }
   },
   "source": [
    "**Exercise**  Can you Can you change the indexings (?) of *print(data[?,?])* to get attributes from index 3 to  index 7 of wine index 25"
   ]
  },
  {
   "cell_type": "code",
   "execution_count": 24,
   "metadata": {
    "pycharm": {
     "name": "#%%\n"
    }
   },
   "outputs": [
    {
     "name": "stdout",
     "output_type": "stream",
     "text": [
      "[ 1.4     0.08   11.     23.      0.9955]\n"
     ]
    }
   ],
   "source": [
    "print(data[25, 3:8])  #all attribute of wine 240. Anwser [ 1.4  0.08 11. 23.  0.9955]"
   ]
  },
  {
   "cell_type": "markdown",
   "metadata": {
    "pycharm": {
     "name": "#%% md\n"
    }
   },
   "source": [
    "**Split data** Now, we need to split the class attribute (the output) from the normal attributes (the inputs)"
   ]
  },
  {
   "cell_type": "code",
   "execution_count": 25,
   "metadata": {
    "pycharm": {
     "name": "#%%\n"
    }
   },
   "outputs": [],
   "source": [
    "inputs = data[:,0:11] \n",
    "output = data[:,11] "
   ]
  },
  {
   "cell_type": "markdown",
   "metadata": {
    "pycharm": {
     "name": "#%% md\n"
    }
   },
   "source": [
    "###  Analyse Data"
   ]
  },
  {
   "cell_type": "markdown",
   "metadata": {
    "pycharm": {
     "name": "#%% md\n"
    }
   },
   "source": [
    "**Analyse the input attributes**. Plot attributes of all wines"
   ]
  },
  {
   "cell_type": "code",
   "execution_count": 26,
   "metadata": {
    "pycharm": {
     "name": "#%%\n"
    }
   },
   "outputs": [
    {
     "data": {
      "image/png": "[encoded data removed]",
      "text/plain": [
       "<Figure size 432x288 with 1 Axes>"
      ]
     },
     "metadata": {
      "needs_background": "light"
     },
     "output_type": "display_data"
    }
   ],
   "source": [
    "#plt.figure(figsize=(20,10))\n",
    "def plot_inputs():\n",
    "    x = list(range(1599))\n",
    "    plt.scatter(x,inputs[:,0],label=\"fixed acidity\")\n",
    "    plt.scatter(x,inputs[:,1],label=\"volatile acidity\")\n",
    "    plt.scatter(x,inputs[:,2],label=\"citric acid\")\n",
    "    plt.scatter(x,inputs[:,3],label=\"residual sugar\")\n",
    "    plt.scatter(x,inputs[:,4],label=\"chlorides\")\n",
    "    plt.scatter(x,inputs[:,5],label=\"free sulfur dioxide\")\n",
    "    plt.scatter(x,inputs[:,6],label=\"total sulfur dioxide\")\n",
    "    plt.scatter(x,inputs[:,7],label=\"density\")\n",
    "    plt.scatter(x,inputs[:,8],label=\"pH\")\n",
    "    plt.scatter(x,inputs[:,9],label=\"sulphates\")\n",
    "    plt.scatter(x,inputs[:,10],label=\"alcohol\")\n",
    "    plt.legend(loc='upper center', bbox_to_anchor=(1.45, 0.8),fontsize='large', shadow=True, ncol=1)\n",
    "    plt.show()\n",
    "    \n",
    "plot_inputs()"
   ]
  },
  {
   "cell_type": "markdown",
   "metadata": {
    "pycharm": {
     "name": "#%% md\n"
    }
   },
   "source": [
    "##### <span style=\"color:red\">Question 3</span>:\n",
    "\n",
    "- Are the attributes in the same range?\n",
    "<br>No they are not in the same range, some attributes even have outliers\n",
    "\n",
    "- What problems can be and how we solve it?\n",
    "<br>The data is not feature-scaled (normlised). Sometimes we couldn't tell the correct distribution of some attributes since the real visual effect (range on the diagram) is so small. (Also will causing gradient descent convergent faster and in fewer iterations)<br>Value have more range affect model more"
   ]
  },
  {
   "cell_type": "markdown",
   "metadata": {
    "pycharm": {
     "name": "#%% md\n"
    }
   },
   "source": [
    "**Analyse the distribution of outputs**"
   ]
  },
  {
   "cell_type": "code",
   "execution_count": 27,
   "metadata": {
    "pycharm": {
     "name": "#%%\n"
    }
   },
   "outputs": [
    {
     "data": {
      "image/png": "[encoded data removed]",
      "text/plain": [
       "<Figure size 432x288 with 1 Axes>"
      ]
     },
     "metadata": {
      "needs_background": "light"
     },
     "output_type": "display_data"
    }
   ],
   "source": [
    "plt.hist(output)\n",
    "plt.show()"
   ]
  },
  {
   "cell_type": "markdown",
   "metadata": {
    "pycharm": {
     "name": "#%% md\n"
    }
   },
   "source": [
    "##### <span style=\"color:red\">Question 4</span>:\n",
    "    \n",
    "- Are the output balanced?\n",
    "<br>No it's not balanced, there have more wine with score 5 and 6. when traning the model, the model only care more about 5 and 6 part to gain enough accuracy, so if you want to predict somthing (with 3 or 8 later), the model would classify it as 5 or 6"
   ]
  },
  {
   "cell_type": "markdown",
   "metadata": {
    "pycharm": {
     "name": "#%% md\n"
    }
   },
   "source": [
    "#### C. Normalise  Data"
   ]
  },
  {
   "cell_type": "code",
   "execution_count": 28,
   "metadata": {
    "pycharm": {
     "name": "#%%\n"
    }
   },
   "outputs": [
    {
     "data": {
      "image/png": "[encoded data removed]",
      "text/plain": [
       "<Figure size 432x288 with 1 Axes>"
      ]
     },
     "metadata": {
      "needs_background": "light"
     },
     "output_type": "display_data"
    }
   ],
   "source": [
    "from sklearn.preprocessing import MinMaxScaler\n",
    "scaler = MinMaxScaler(feature_range=(-1,1))\n",
    "inputs = scaler.fit_transform(inputs)\n",
    "plot_inputs()\n"
   ]
  },
  {
   "cell_type": "markdown",
   "metadata": {
    "pycharm": {
     "name": "#%% md\n"
    }
   },
   "source": [
    "After normalisation, the ranges of the input attributes are now similar."
   ]
  }
 ],
 "metadata": {
  "kernelspec": {
   "display_name": "Python 3.10.5 64-bit",
   "language": "python",
   "name": "python3"
  },
  "language_info": {
   "codemirror_mode": {
    "name": "ipython",
    "version": 3
   },
   "file_extension": ".py",
   "mimetype": "text/x-python",
   "name": "python",
   "nbconvert_exporter": "python",
   "pygments_lexer": "ipython3",
   "version": "3.10.5"
  },
  "vscode": {
   "interpreter": {
    "hash": "f7c184107aed90e61f21a107d83f6d0078a177071f5a0db3f42787e18d37abad"
   }
  }
 },
 "nbformat": 4,
 "nbformat_minor": 2
}
